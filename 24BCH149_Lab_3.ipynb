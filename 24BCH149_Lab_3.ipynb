{
  "nbformat": 4,
  "nbformat_minor": 0,
  "metadata": {
    "colab": {
      "provenance": [],
      "authorship_tag": "ABX9TyMTpcdZ8tG0NT7D8VIHbDVA"
    },
    "kernelspec": {
      "name": "python3",
      "display_name": "Python 3"
    },
    "language_info": {
      "name": "python"
    }
  },
  "cells": [
    {
      "cell_type": "markdown",
      "source": [
        "1) Print all alphabets in upper case and in lower case."
      ],
      "metadata": {
        "id": "SdIFrBtzTuit"
      }
    },
    {
      "cell_type": "code",
      "execution_count": 5,
      "metadata": {
        "colab": {
          "base_uri": "https://localhost:8080/"
        },
        "id": "hVvsGU9CSjCU",
        "outputId": "fa943e62-b509-4364-9714-9f3bb9ed5ce7"
      },
      "outputs": [
        {
          "output_type": "stream",
          "name": "stdout",
          "text": [
            "Upper case alphabets:\n",
            "A B C D E F G H I J K L M N O P Q R S T U V W X Y Z \n",
            "Lower case alphabets:\n",
            "a b c d e f g h i j k l m n o p q r s t u v w x y z \n"
          ]
        }
      ],
      "source": [
        "print(\"Upper case alphabets:\")\n",
        "for l in range(65, 91):\n",
        " print(chr(l), end=\" \")\n",
        "print()\n",
        "print(\"Lower case alphabets:\")\n",
        "for l in range(97, 123):\n",
        " print(chr(l), end=\" \")\n",
        "print()"
      ]
    },
    {
      "cell_type": "markdown",
      "source": [
        "2) Print a multiplication table of a given number."
      ],
      "metadata": {
        "id": "y7SZ9xmUT0uI"
      }
    },
    {
      "cell_type": "code",
      "source": [
        "def print_multiplication_table(number):\n",
        "    print(f\"Multiplication Table for {number}:\")\n",
        "    result = [f\"{number} x {m} = {number * m}\" for m in range(1, 11)]\n",
        "    print(\"\\n\".join(result))\n",
        "\n",
        "number = int(input(\"Enter a number: \"))\n",
        "print_multiplication_table(number)"
      ],
      "metadata": {
        "colab": {
          "base_uri": "https://localhost:8080/"
        },
        "id": "wpOZuNe5UUBH",
        "outputId": "628093f8-a565-468e-d7c7-cbc63cf1d1af"
      },
      "execution_count": 9,
      "outputs": [
        {
          "output_type": "stream",
          "name": "stdout",
          "text": [
            "Enter a number: 7\n",
            "Multiplication Table for 7:\n",
            "7 x 1 = 7\n",
            "7 x 2 = 14\n",
            "7 x 3 = 21\n",
            "7 x 4 = 28\n",
            "7 x 5 = 35\n",
            "7 x 6 = 42\n",
            "7 x 7 = 49\n",
            "7 x 8 = 56\n",
            "7 x 9 = 63\n",
            "7 x 10 = 70\n"
          ]
        }
      ]
    },
    {
      "cell_type": "markdown",
      "source": [
        " 3) Count no. of alphabets and no. of digits in any given string."
      ],
      "metadata": {
        "id": "jXei_P5OUhuZ"
      }
    },
    {
      "cell_type": "code",
      "source": [
        "def count_alphabets_and_digits(string):\n",
        "    alphabets = 0\n",
        "    digits = 0\n",
        "\n",
        "    for char in string:\n",
        "        if char.isalpha():\n",
        "            alphabets += 1\n",
        "        elif char.isdigit():\n",
        "            digits += 1\n",
        "\n",
        "    print(f\"Number of alphabets: {alphabets}\")\n",
        "    print(f\"Number of digits: {digits}\")\n",
        "\n",
        "input_string = input(\"Enter a string: \")\n",
        "count_alphabets_and_digits(input_string)"
      ],
      "metadata": {
        "colab": {
          "base_uri": "https://localhost:8080/"
        },
        "id": "6DYPtfdUUmY6",
        "outputId": "1231d368-c876-4029-8e5b-55f757fe1b69"
      },
      "execution_count": 10,
      "outputs": [
        {
          "output_type": "stream",
          "name": "stdout",
          "text": [
            "Enter a string: My name is Tirth Mistry \n",
            "Number of alphabets: 19\n",
            "Number of digits: 0\n"
          ]
        }
      ]
    },
    {
      "cell_type": "markdown",
      "source": [
        " 4) Check whether a given number is prime, is perfect, is Armstrong, is palindrome, is automorphic"
      ],
      "metadata": {
        "id": "4IOWS1ipU8Gp"
      }
    },
    {
      "cell_type": "code",
      "source": [
        "import math\n",
        "\n",
        "def is_prime(n):\n",
        "    if n <= 1:\n",
        "        return False\n",
        "    for i in range(2, int(math.sqrt(n)) + 1):\n",
        "        if n % i == 0:\n",
        "            return False\n",
        "    return True\n",
        "\n",
        "def is_perfect(n):\n",
        "    divisors_sum = sum(i for i in range(1, n) if n % i == 0)\n",
        "    return divisors_sum == n\n",
        "\n",
        "def is_armstrong(n):\n",
        "    num_str = str(n)\n",
        "    power = len(num_str)\n",
        "    return sum(int(digit) ** power for digit in num_str) == n\n",
        "\n",
        "def is_palindrome(n):\n",
        "    return str(n) == str(n)[::-1]\n",
        "\n",
        "def is_automorphic(n):\n",
        "    square = n * n\n",
        "    return str(square).endswith(str(n))\n",
        "\n",
        "number = int(input(\"Enter a number: \"))\n",
        "\n",
        "print(f\"Is {number} prime? {is_prime(number)}\")\n",
        "print(f\"Is {number} perfect? {is_perfect(number)}\")\n",
        "print(f\"Is {number} Armstrong? {is_armstrong(number)}\")\n",
        "print(f\"Is {number} palindrome? {is_palindrome(number)}\")\n",
        "print(f\"Is {number} automorphic? {is_automorphic(number)}\")\n"
      ],
      "metadata": {
        "colab": {
          "base_uri": "https://localhost:8080/"
        },
        "id": "OY-K1ohGVOq3",
        "outputId": "5bc4924e-91f5-49a0-fde6-84ce11e2bdad"
      },
      "execution_count": 11,
      "outputs": [
        {
          "output_type": "stream",
          "name": "stdout",
          "text": [
            "Enter a number: 98\n",
            "Is 98 prime? False\n",
            "Is 98 perfect? False\n",
            "Is 98 Armstrong? False\n",
            "Is 98 palindrome? False\n",
            "Is 98 automorphic? False\n"
          ]
        }
      ]
    },
    {
      "cell_type": "markdown",
      "source": [
        "5)Generate all Pythagorean Triplets with side length <= 30"
      ],
      "metadata": {
        "id": "eCn7xRifVa45"
      }
    },
    {
      "cell_type": "code",
      "source": [
        "def generate_pythagorean_triplets(limit):\n",
        "    triplets = []\n",
        "    for a in range(1, limit + 1):\n",
        "        for b in range(a, limit + 1):\n",
        "            c = (a**2 + b**2)**0.5\n",
        "            if c.is_integer() and c <= limit:\n",
        "                triplets.append((a, b, int(c)))\n",
        "    return triplets\n",
        "\n",
        "limit = 30\n",
        "triplets = generate_pythagorean_triplets(limit)\n",
        "\n",
        "for triplet in triplets:\n",
        "    print(triplet)\n"
      ],
      "metadata": {
        "colab": {
          "base_uri": "https://localhost:8080/"
        },
        "id": "-gjjz8NLVXUX",
        "outputId": "151c8591-b298-4ea2-e070-3596c7e02401"
      },
      "execution_count": 12,
      "outputs": [
        {
          "output_type": "stream",
          "name": "stdout",
          "text": [
            "(3, 4, 5)\n",
            "(5, 12, 13)\n",
            "(6, 8, 10)\n",
            "(7, 24, 25)\n",
            "(8, 15, 17)\n",
            "(9, 12, 15)\n",
            "(10, 24, 26)\n",
            "(12, 16, 20)\n",
            "(15, 20, 25)\n",
            "(18, 24, 30)\n",
            "(20, 21, 29)\n"
          ]
        }
      ]
    },
    {
      "cell_type": "markdown",
      "source": [
        " 6) Print 24 hours of day with suitable suffixes like AM, PM, Noon and Midnight."
      ],
      "metadata": {
        "id": "Qik7yyYyVpWU"
      }
    },
    {
      "cell_type": "code",
      "source": [
        "def print_hours_of_day():\n",
        "    for hour in range(24):\n",
        "        if hour == 0:\n",
        "            print(\"12:00 AM (Midnight)\")\n",
        "        elif hour == 12:\n",
        "            print(\"12:00 PM (Noon)\")\n",
        "        elif hour < 12:\n",
        "            print(f\"{hour}:00 AM\")\n",
        "        else:\n",
        "            print(f\"{hour - 12}:00 PM\")\n",
        "\n",
        "print_hours_of_day()"
      ],
      "metadata": {
        "colab": {
          "base_uri": "https://localhost:8080/"
        },
        "id": "X15MAme8V7I6",
        "outputId": "dd7819ef-e584-4477-ac5a-ab1c393337d7"
      },
      "execution_count": 14,
      "outputs": [
        {
          "output_type": "stream",
          "name": "stdout",
          "text": [
            "12:00 AM (Midnight)\n",
            "1:00 AM\n",
            "2:00 AM\n",
            "3:00 AM\n",
            "4:00 AM\n",
            "5:00 AM\n",
            "6:00 AM\n",
            "7:00 AM\n",
            "8:00 AM\n",
            "9:00 AM\n",
            "10:00 AM\n",
            "11:00 AM\n",
            "12:00 PM (Noon)\n",
            "1:00 PM\n",
            "2:00 PM\n",
            "3:00 PM\n",
            "4:00 PM\n",
            "5:00 PM\n",
            "6:00 PM\n",
            "7:00 PM\n",
            "8:00 PM\n",
            "9:00 PM\n",
            "10:00 PM\n",
            "11:00 PM\n"
          ]
        }
      ]
    },
    {
      "cell_type": "markdown",
      "source": [
        " 7) Print nCr and nPr"
      ],
      "metadata": {
        "id": "ZJDBgDh1V_ku"
      }
    },
    {
      "cell_type": "code",
      "source": [
        "import math\n",
        "\n",
        "def calculate_nCr(n, r):\n",
        "    return math.comb(n, r)\n",
        "\n",
        "def calculate_nPr(n, r):\n",
        "    return math.perm(n, r)\n",
        "\n",
        "n = int(input(\"Enter n: \"))\n",
        "r = int(input(\"Enter r: \"))\n",
        "\n",
        "nCr = calculate_nCr(n, r)\n",
        "nPr = calculate_nPr(n, r)\n",
        "\n",
        "print(f\"{n}C{r} (Combination): {nCr}\")\n",
        "print(f\"{n}P{r} (Permutation): {nPr}\")\n"
      ],
      "metadata": {
        "colab": {
          "base_uri": "https://localhost:8080/"
        },
        "id": "qG1mCm7vWLxY",
        "outputId": "1fc078b6-ba2a-4615-8892-776c805c4ae3"
      },
      "execution_count": 15,
      "outputs": [
        {
          "output_type": "stream",
          "name": "stdout",
          "text": [
            "Enter n: 6\n",
            "Enter r: 4\n",
            "6C4 (Combination): 15\n",
            "6P4 (Permutation): 360\n"
          ]
        }
      ]
    },
    {
      "cell_type": "markdown",
      "source": [
        " 8) Print factorial of a given number"
      ],
      "metadata": {
        "id": "oTFMkjnSWVTl"
      }
    },
    {
      "cell_type": "code",
      "source": [
        "import math\n",
        "\n",
        "def factorial(n):\n",
        "    return math.factorial(n)\n",
        "\n",
        "number = int(input(\"Enter a number: \"))\n",
        "print(f\"The factorial of {number} is {factorial(number)}\")"
      ],
      "metadata": {
        "colab": {
          "base_uri": "https://localhost:8080/"
        },
        "id": "pYTC0kJfWZNZ",
        "outputId": "0599db50-e9a9-40f1-c9de-32e938a45e76"
      },
      "execution_count": 16,
      "outputs": [
        {
          "output_type": "stream",
          "name": "stdout",
          "text": [
            "Enter a number: 5\n",
            "The factorial of 5 is 120\n"
          ]
        }
      ]
    },
    {
      "cell_type": "markdown",
      "source": [
        " 9) Print N natural nos. in reverse"
      ],
      "metadata": {
        "id": "0TlSGrW6Wgrz"
      }
    },
    {
      "cell_type": "code",
      "source": [
        "def print_natural_numbers_reverse(n):\n",
        "    for i in range(n, 0, -1):\n",
        "        print(i, end=\" \")\n",
        "\n",
        "n = int(input(\"Enter a number N: \"))\n",
        "print_natural_numbers_reverse(n)"
      ],
      "metadata": {
        "colab": {
          "base_uri": "https://localhost:8080/"
        },
        "id": "ozsjpU5CWpqo",
        "outputId": "97c54d6d-3c56-434f-8fc3-b6cae35d4c5e"
      },
      "execution_count": 17,
      "outputs": [
        {
          "output_type": "stream",
          "name": "stdout",
          "text": [
            "Enter a number N: 98\n",
            "98 97 96 95 94 93 92 91 90 89 88 87 86 85 84 83 82 81 80 79 78 77 76 75 74 73 72 71 70 69 68 67 66 65 64 63 62 61 60 59 58 57 56 55 54 53 52 51 50 49 48 47 46 45 44 43 42 41 40 39 38 37 36 35 34 33 32 31 30 29 28 27 26 25 24 23 22 21 20 19 18 17 16 15 14 13 12 11 10 9 8 7 6 5 4 3 2 1 "
          ]
        }
      ]
    },
    {
      "cell_type": "markdown",
      "source": [
        " 10) Generate N numbers of Fibonacci series"
      ],
      "metadata": {
        "id": "jOdjtrtcWwEt"
      }
    },
    {
      "cell_type": "code",
      "source": [
        "def fibonacci_series(n):\n",
        "    fib = [0, 1]\n",
        "    while len(fib) < n:\n",
        "        fib.append(fib[-1] + fib[-2])\n",
        "    return fib[:n]\n",
        "\n",
        "n = int(input(\"Enter the number N: \"))\n",
        "fib_series = fibonacci_series(n)\n",
        "print(f\"The first {n} numbers of the Fibonacci series are: {fib_series}\")\n"
      ],
      "metadata": {
        "colab": {
          "base_uri": "https://localhost:8080/"
        },
        "id": "-4Q3aMm_W1K_",
        "outputId": "80fe9f47-8d5f-44a8-aa22-d6c3016bb764"
      },
      "execution_count": 18,
      "outputs": [
        {
          "output_type": "stream",
          "name": "stdout",
          "text": [
            "Enter the number N: 7\n",
            "The first 7 numbers of the Fibonacci series are: [0, 1, 1, 2, 3, 5, 8]\n"
          ]
        }
      ]
    },
    {
      "cell_type": "markdown",
      "source": [
        " 11) Calculate sin(x); x is a radian value. The formula is as under: sin(x)=x-x^3/3!+x^5/5!-x^7/7!..... (hint: degrees can be converted into radians\n",
        " by 3.14159 / 180.)"
      ],
      "metadata": {
        "id": "hjT0gM1pW7ZA"
      }
    },
    {
      "cell_type": "code",
      "source": [
        "import math\n",
        "\n",
        "def sin_approximation(x, terms=10):\n",
        "    result = 0\n",
        "    for n in range(terms):\n",
        "        sign = (-1) ** n\n",
        "        result += sign * (x ** (2 * n + 1)) / math.factorial(2 * n + 1)\n",
        "    return result\n",
        "\n",
        "def degrees_to_radians(degrees):\n",
        "    return degrees * (math.pi / 180)\n",
        "\n",
        "# Input\n",
        "degrees = float(input(\"Enter the angle in degrees: \"))\n",
        "radians = degrees_to_radians(degrees)\n",
        "\n",
        "# Calculate sin(x) using series expansion\n",
        "sin_value = sin_approximation(radians)\n",
        "print(f\"sin({degrees}°) ≈ {sin_value}\")\n"
      ],
      "metadata": {
        "colab": {
          "base_uri": "https://localhost:8080/"
        },
        "id": "3eUxYZKCW4YH",
        "outputId": "c5b5eb34-0b6d-4a37-a836-a31f3906b153"
      },
      "execution_count": 19,
      "outputs": [
        {
          "output_type": "stream",
          "name": "stdout",
          "text": [
            "Enter the angle in degrees: 60\n",
            "sin(60.0°) ≈ 0.8660254037844385\n"
          ]
        }
      ]
    }
  ]
}