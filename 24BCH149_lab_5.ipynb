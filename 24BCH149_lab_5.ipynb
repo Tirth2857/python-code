{
  "nbformat": 4,
  "nbformat_minor": 0,
  "metadata": {
    "colab": {
      "provenance": [],
      "authorship_tag": "ABX9TyOyP1CUFkRzJOazgCNoYubW"
    },
    "kernelspec": {
      "name": "python3",
      "display_name": "Python 3"
    },
    "language_info": {
      "name": "python"
    }
  },
  "cells": [
    {
      "cell_type": "markdown",
      "source": [
        " 1. A list contains names of boys and girls as its elements. Boys’ names are stored as tuples. Write a program to find out number of boys\n",
        " and girls in the list. (Hint: use isinstance(ele,tuple)"
      ],
      "metadata": {
        "id": "Teub6rTkH7pB"
      }
    },
    {
      "cell_type": "code",
      "execution_count": 1,
      "metadata": {
        "colab": {
          "base_uri": "https://localhost:8080/"
        },
        "id": "1gtnMgW5Hq7_",
        "outputId": "ed56b28f-ee2b-4dfa-b9c8-6a0140af24eb"
      },
      "outputs": [
        {
          "output_type": "stream",
          "name": "stdout",
          "text": [
            "Number of boys: 3\n",
            "Number of girls: 4\n"
          ]
        }
      ],
      "source": [
        "names = [(\"Ravi\", \"Arjun\"), (\"Amit\",), \"Priya\", \"Sita\", (\"Vikram\", \"Raj\"), \"Anjali\", \"Laxmi\"]\n",
        "\n",
        "boys = 0\n",
        "girls = 0\n",
        "\n",
        "for ele in names:\n",
        "    if isinstance(ele, tuple):\n",
        "        boys += 1\n",
        "    else:\n",
        "        girls += 1\n",
        "\n",
        "print(\"Number of boys:\", boys)\n",
        "print(\"Number of girls:\", girls)"
      ]
    },
    {
      "cell_type": "markdown",
      "source": [
        " 2. A list contains tuples containing roll no., name and age of student. Write a python program to create three lists separately for roll no.,\n",
        " name and age"
      ],
      "metadata": {
        "id": "LqKjbp3fIiUR"
      }
    },
    {
      "cell_type": "code",
      "source": [
        "students = [(101, \"Ravi\", 20), (102, \"Amit\", 22), (103, \"Priya\", 19), (104, \"Anjali\", 21)]\n",
        "\n",
        "roll_no = []\n",
        "names = []\n",
        "ages = []\n",
        "\n",
        "for student in students:\n",
        "    roll_no.append(student[0])\n",
        "    names.append(student[1])\n",
        "    ages.append(student[2])\n",
        "\n",
        "print(\"Roll numbers:\", roll_no)\n",
        "print(\"Names:\", names)\n",
        "print(\"Ages:\", ages)"
      ],
      "metadata": {
        "colab": {
          "base_uri": "https://localhost:8080/"
        },
        "id": "kwciDlCNIvph",
        "outputId": "c7969030-473f-4368-cb6e-9020d610cabe"
      },
      "execution_count": 2,
      "outputs": [
        {
          "output_type": "stream",
          "name": "stdout",
          "text": [
            "Roll numbers: [101, 102, 103, 104]\n",
            "Names: ['Ravi', 'Amit', 'Priya', 'Anjali']\n",
            "Ages: [20, 22, 19, 21]\n"
          ]
        }
      ]
    },
    {
      "cell_type": "markdown",
      "source": [
        " 3. Suppose a date is represented as a tuple (d, m, y). Create two date tuples and find the number of days between the two dates"
      ],
      "metadata": {
        "id": "mvemlRK6I0OV"
      }
    },
    {
      "cell_type": "code",
      "source": [
        "from datetime import datetime\n",
        "\n",
        "def date_to_datetime(date_tuple):\n",
        "    return datetime(date_tuple[2], date_tuple[1], date_tuple[0])\n",
        "\n",
        "date1 = (5, 6, 2023)\n",
        "date2 = (12, 8, 2024)\n",
        "\n",
        "date1_dt = date_to_datetime(date1)\n",
        "date2_dt = date_to_datetime(date2)\n",
        "\n",
        "difference = (date2_dt - date1_dt).days\n",
        "\n",
        "print(f\"Number of days between {date1} and {date2}: {difference} days\")"
      ],
      "metadata": {
        "colab": {
          "base_uri": "https://localhost:8080/"
        },
        "id": "Q2Pe6tN5JE6n",
        "outputId": "d8b7bbf9-d78c-4b3c-a363-8bd953e2990b"
      },
      "execution_count": 3,
      "outputs": [
        {
          "output_type": "stream",
          "name": "stdout",
          "text": [
            "Number of days between (5, 6, 2023) and (12, 8, 2024): 434 days\n"
          ]
        }
      ]
    },
    {
      "cell_type": "markdown",
      "source": [
        " 4. Create a list of tuples containing a food item and its price. Sort the tuples in descending order by price"
      ],
      "metadata": {
        "id": "-lzjKc9yJI0_"
      }
    },
    {
      "cell_type": "code",
      "source": [
        "food_items = [(\"Burger\", 5), (\"Pizza\", 10), (\"Pasta\", 7), (\"tacos\", 12), (\"Fries\", 3)]\n",
        "\n",
        "sorted_food_items = sorted(food_items, key=lambda x: x[1], reverse=True)\n",
        "\n",
        "print(\"Food items sorted by price in descending order:\")\n",
        "for item in sorted_food_items:\n",
        "    print(item)"
      ],
      "metadata": {
        "colab": {
          "base_uri": "https://localhost:8080/"
        },
        "id": "pO5DPX9nJdf8",
        "outputId": "e285398b-908e-4671-f851-f586189bc5f7"
      },
      "execution_count": 5,
      "outputs": [
        {
          "output_type": "stream",
          "name": "stdout",
          "text": [
            "Food items sorted by price in descending order:\n",
            "('tacos', 12)\n",
            "('Pizza', 10)\n",
            "('Pasta', 7)\n",
            "('Burger', 5)\n",
            "('Fries', 3)\n"
          ]
        }
      ]
    },
    {
      "cell_type": "markdown",
      "source": [
        "5. Remove empty tuple(s) from the list of tuples."
      ],
      "metadata": {
        "id": "2_cqe2kuJu9A"
      }
    },
    {
      "cell_type": "code",
      "source": [
        "tuples_list = [(\"Apple\", 5), (), (\"Banana\", 3), (), (\"Grapes\", 8)]\n",
        "\n",
        "filtered_list = [tup for tup in tuples_list if tup]\n",
        "\n",
        "print(\"List after removing empty tuples:\")\n",
        "print(filtered_list)"
      ],
      "metadata": {
        "colab": {
          "base_uri": "https://localhost:8080/"
        },
        "id": "wvWf_9_-JuiS",
        "outputId": "c25f8dc6-f43e-45fa-e4f8-0b3a9743d7c0"
      },
      "execution_count": 6,
      "outputs": [
        {
          "output_type": "stream",
          "name": "stdout",
          "text": [
            "List after removing empty tuples:\n",
            "[('Apple', 5), ('Banana', 3), ('Grapes', 8)]\n"
          ]
        }
      ]
    },
    {
      "cell_type": "markdown",
      "source": [
        " 6. Modify an element of a tuple"
      ],
      "metadata": {
        "id": "_ztWZPCQKHBY"
      }
    },
    {
      "cell_type": "code",
      "source": [
        "original_tuple = (1, 2, 3, 4)\n",
        "\n",
        "temp_list = list(original_tuple)\n",
        "\n",
        "temp_list[1] = 99\n",
        "\n",
        "modified_tuple = tuple(temp_list)\n",
        "\n",
        "print(\"Original Tuple:\", original_tuple)\n",
        "print(\"Modified Tuple:\", modified_tuple)"
      ],
      "metadata": {
        "colab": {
          "base_uri": "https://localhost:8080/"
        },
        "id": "cpCfzW1lKMdD",
        "outputId": "5e9c1103-66c2-4845-a6c0-e49a8275f6f9"
      },
      "execution_count": 7,
      "outputs": [
        {
          "output_type": "stream",
          "name": "stdout",
          "text": [
            "Original Tuple: (1, 2, 3, 4)\n",
            "Modified Tuple: (1, 99, 3, 4)\n"
          ]
        }
      ]
    },
    {
      "cell_type": "markdown",
      "source": [
        "7. Delete an element of a tuple"
      ],
      "metadata": {
        "id": "RvV5eK1JKX_y"
      }
    },
    {
      "cell_type": "code",
      "source": [
        "original_tuple = (1, 2, 3, 4)\n",
        "\n",
        "new_tuple = original_tuple[:1] + original_tuple[2:]\n",
        "\n",
        "print(\"Original Tuple:\", original_tuple)\n",
        "print(\"New Tuple:\", new_tuple)"
      ],
      "metadata": {
        "colab": {
          "base_uri": "https://localhost:8080/"
        },
        "id": "PkRCccoDKeT1",
        "outputId": "ae55a7b2-b102-4dae-849c-20670e14d076"
      },
      "execution_count": 8,
      "outputs": [
        {
          "output_type": "stream",
          "name": "stdout",
          "text": [
            "Original Tuple: (1, 2, 3, 4)\n",
            "New Tuple: (1, 3, 4)\n"
          ]
        }
      ]
    }
  ]
}