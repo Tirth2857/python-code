{
  "nbformat": 4,
  "nbformat_minor": 0,
  "metadata": {
    "colab": {
      "provenance": [],
      "authorship_tag": "ABX9TyPLlw8xcqN+i0zfezuuTWwM"
    },
    "kernelspec": {
      "name": "python3",
      "display_name": "Python 3"
    },
    "language_info": {
      "name": "python"
    }
  },
  "cells": [
    {
      "cell_type": "markdown",
      "source": [
        "Print largest and smallest values out of two"
      ],
      "metadata": {
        "id": "eJhx1KESAR0E"
      }
    },
    {
      "cell_type": "code",
      "execution_count": 3,
      "metadata": {
        "colab": {
          "base_uri": "https://localhost:8080/"
        },
        "id": "8pGcrStg_ZcA",
        "outputId": "67fb8341-e9f1-4e0f-d5d2-e18377ea464e"
      },
      "outputs": [
        {
          "output_type": "stream",
          "name": "stdout",
          "text": [
            "Num 1 is largest values\n",
            "num 2 is smallest\n"
          ]
        }
      ],
      "source": [
        "a= 50\n",
        "b = 10\n",
        "if (a>b):\n",
        "  print(\"Num 1 is largest values\")\n",
        "else:\n",
        "  print(\"num 1 is smallest\")\n",
        "if(b>a):\n",
        "  print(\"num 2 is largest values\")\n",
        "else:\n",
        "  print(\"num 2 is smallest\")"
      ]
    },
    {
      "cell_type": "markdown",
      "source": [
        " Print largest and smallest values out of three"
      ],
      "metadata": {
        "id": "eK-xOgnIAYc8"
      }
    },
    {
      "cell_type": "code",
      "source": [
        "a = 504\n",
        "b = 234\n",
        "c = 678\n",
        "if(a>b and a>c):\n",
        "  print(\"num 1 is largest values\")\n",
        "else:\n",
        "  print(\"num 1 is smallest\")\n",
        "if(b>c and b>a):\n",
        "  print(\"num 2 is largest values\")\n",
        "else:\n",
        " print(\"num 2 is smallest\")\n",
        "if(c>a and c>b):\n",
        " print(\"num 3 is largest\")\n",
        "else:\n",
        " print(\"num 3 is smallest\")"
      ],
      "metadata": {
        "colab": {
          "base_uri": "https://localhost:8080/"
        },
        "id": "aOnG0hGcAw8T",
        "outputId": "7ddfd851-7cf9-46c7-f554-b89dd0bb8b62"
      },
      "execution_count": 5,
      "outputs": [
        {
          "output_type": "stream",
          "name": "stdout",
          "text": [
            "num 1 is smallest\n",
            "num 2 is smallest\n",
            "num 3 is largest\n"
          ]
        }
      ]
    },
    {
      "cell_type": "markdown",
      "source": [
        " Check whether a given number is odd or even"
      ],
      "metadata": {
        "id": "Z6Yn9m_eBh7u"
      }
    },
    {
      "cell_type": "code",
      "source": [
        "num = 56\n",
        "if(num%2==0):\n",
        "  print(\"Even\")\n",
        "else:\n",
        " print(\"odd\")"
      ],
      "metadata": {
        "colab": {
          "base_uri": "https://localhost:8080/"
        },
        "id": "O4ZluBTABmZ8",
        "outputId": "a5d2bb05-0122-470a-c030-b8db895c0d3d"
      },
      "execution_count": 6,
      "outputs": [
        {
          "output_type": "stream",
          "name": "stdout",
          "text": [
            "Even\n"
          ]
        }
      ]
    },
    {
      "cell_type": "markdown",
      "source": [
        "Check whether a given number is divisible by 10 or not."
      ],
      "metadata": {
        "id": "VKujK4OhB1jw"
      }
    },
    {
      "cell_type": "code",
      "source": [
        "num = 123\n",
        "if(num%10==0):\n",
        " print(\"it is divisiable by 10\")\n",
        "else:\n",
        " print(\"not it is not divisiable by 10\")"
      ],
      "metadata": {
        "colab": {
          "base_uri": "https://localhost:8080/"
        },
        "id": "tCiMm9UzB2_x",
        "outputId": "3e570aee-a35c-4592-ef49-027b3cee9654"
      },
      "execution_count": 7,
      "outputs": [
        {
          "output_type": "stream",
          "name": "stdout",
          "text": [
            "not it is not divisiable by 10\n"
          ]
        }
      ]
    },
    {
      "cell_type": "markdown",
      "source": [
        " Accept age of a person. If age is less than 18, print minor otherwise Major"
      ],
      "metadata": {
        "id": "r_hwpodRCC3A"
      }
    },
    {
      "cell_type": "code",
      "source": [
        "age = int(input(\"Enter the age of person:\"))\n",
        "if(age<18):\n",
        " print(\"minor\")\n",
        "else:\n",
        " print(\"major\")"
      ],
      "metadata": {
        "colab": {
          "base_uri": "https://localhost:8080/"
        },
        "id": "siHO-Q6BCLnw",
        "outputId": "d3fd7324-cf00-4eec-8226-5844f78117f0"
      },
      "execution_count": 8,
      "outputs": [
        {
          "output_type": "stream",
          "name": "stdout",
          "text": [
            "Enter the age of person:45\n",
            "major\n"
          ]
        }
      ]
    },
    {
      "cell_type": "markdown",
      "source": [
        "Accept a number from the user. And print number of digits in it"
      ],
      "metadata": {
        "id": "HZmCc58TCd3X"
      }
    },
    {
      "cell_type": "code",
      "source": [
        " num = input(\"Enter the numbers:\")\n",
        " print(len(num))"
      ],
      "metadata": {
        "colab": {
          "base_uri": "https://localhost:8080/"
        },
        "id": "a6jnSs4UClFJ",
        "outputId": "4b4650ee-b3b5-4073-cd46-77f9e016a612"
      },
      "execution_count": 9,
      "outputs": [
        {
          "output_type": "stream",
          "name": "stdout",
          "text": [
            "Enter the numbers:657\n",
            "3\n"
          ]
        }
      ]
    },
    {
      "cell_type": "markdown",
      "source": [
        "Accept a year value from the user. Check whether it is a leap year or not"
      ],
      "metadata": {
        "id": "ooauS4HnCver"
      }
    },
    {
      "cell_type": "code",
      "source": [
        " year = int(input(\"Enter the year:\"))\n",
        " if( year % 4 == 0 and ( year % 400 == 0 or year % 100 != 0 )):\n",
        "  print(\"it's a leap year\")\n",
        " else:\n",
        "  print(\"it's not leap year\")"
      ],
      "metadata": {
        "colab": {
          "base_uri": "https://localhost:8080/"
        },
        "id": "RQzrezF9CzEX",
        "outputId": "6cf8cf75-a570-490e-e5a1-c0976d58cc4c"
      },
      "execution_count": 11,
      "outputs": [
        {
          "output_type": "stream",
          "name": "stdout",
          "text": [
            "Enter the year:2020\n",
            "it's a leap year\n"
          ]
        }
      ]
    },
    {
      "cell_type": "markdown",
      "source": [
        "Check whether a triangle is valid or not, when the three angles of the triangle are entered through the keyboard. A triangle is valid if te sum\n",
        " of all the three angles is equal to 180 degrees."
      ],
      "metadata": {
        "id": "JdcYkv2rDPCd"
      }
    },
    {
      "cell_type": "code",
      "source": [
        "a = int(input(\"Enter the 1st angle:\"))\n",
        "b = int(input(\"Enter the 2nd angle:\"))\n",
        "c = int(input(\"Enter the 3rd angle5:\"))\n",
        "if(a + b + c == 180):\n",
        " print(\"triange is valid\")\n",
        "else:\n",
        " print(\"triange is invalid\")"
      ],
      "metadata": {
        "colab": {
          "base_uri": "https://localhost:8080/"
        },
        "id": "c90z7pxODRw4",
        "outputId": "21871c6b-2548-4d07-dd13-600ad3853a7a"
      },
      "execution_count": 14,
      "outputs": [
        {
          "output_type": "stream",
          "name": "stdout",
          "text": [
            "Enter the 1st angle:2\n",
            "Enter the 2nd angle:6\n",
            "Enter the 3rd angle:455\n",
            "triange is invalid\n"
          ]
        }
      ]
    },
    {
      "cell_type": "markdown",
      "source": [
        "Print absolute value of a given number"
      ],
      "metadata": {
        "id": "e7EKOnuXDusl"
      }
    },
    {
      "cell_type": "code",
      "source": [
        " a = -50\n",
        " print(abs(a))"
      ],
      "metadata": {
        "colab": {
          "base_uri": "https://localhost:8080/"
        },
        "id": "pmrKAQ88Dykp",
        "outputId": "c9f62ab8-9278-434d-bf66-e76943110d78"
      },
      "execution_count": 16,
      "outputs": [
        {
          "output_type": "stream",
          "name": "stdout",
          "text": [
            "50\n"
          ]
        }
      ]
    },
    {
      "cell_type": "markdown",
      "source": [
        "Given the length and breadth of a rectangle, write a program to find whether theare of the rectangle is greater than its perimeter"
      ],
      "metadata": {
        "id": "5YmN9fHkD8he"
      }
    },
    {
      "cell_type": "code",
      "source": [
        "length = 76\n",
        "breath = 98\n",
        "area = length * breath\n",
        "perimeter = 2*(length + breath)\n",
        "if(area > perimeter):\n",
        " print('area is greater than perimeter')\n",
        "else:\n",
        " print('area is smaller than perimeter')"
      ],
      "metadata": {
        "colab": {
          "base_uri": "https://localhost:8080/"
        },
        "id": "OyVstN7SEBD8",
        "outputId": "d942338c-599f-4b95-c85c-079849d781da"
      },
      "execution_count": 18,
      "outputs": [
        {
          "output_type": "stream",
          "name": "stdout",
          "text": [
            "area is greater than perimeter\n"
          ]
        }
      ]
    },
    {
      "cell_type": "markdown",
      "source": [
        "Given three points (x1,y1), (x2,y2) and (x3,y3), check if all the three points fall on one straight line"
      ],
      "metadata": {
        "id": "k9hqPYxcEM9s"
      }
    },
    {
      "cell_type": "code",
      "source": [
        "x1 = 100\n",
        "x2 = 200\n",
        "x3 =400\n",
        "y1 =800\n",
        "y2 = 600\n",
        "y3 =1200\n",
        "a = (x1*(y2-y3))+(x2*(y3-y1))+(x3*(y1-y2))\n",
        "if (a == 0):\n",
        " print('all the points fall on one stright line')\n",
        "else:\n",
        " print(\"all the points dont fall on one stright line\")"
      ],
      "metadata": {
        "colab": {
          "base_uri": "https://localhost:8080/"
        },
        "id": "fXVmoM0pEQ68",
        "outputId": "abb17bf5-f2e5-40ee-be2b-24bb43450b1f"
      },
      "execution_count": 19,
      "outputs": [
        {
          "output_type": "stream",
          "name": "stdout",
          "text": [
            "all the points dont fall on one stright line\n"
          ]
        }
      ]
    },
    {
      "cell_type": "markdown",
      "source": [
        " Given the coordinates (x,y) of center of a circle and its radius, determine whether a point lies inside the circle, on the circle or outside the\n",
        " circle."
      ],
      "metadata": {
        "id": "nyrSe-aJEo34"
      }
    },
    {
      "cell_type": "code",
      "source": [
        "import math\n",
        "circlex = 60\n",
        "circley = 54\n",
        "radius = 100\n",
        "pointx = 3\n",
        "pointy = 0\n",
        "distance = math.sqrt(math.pow(pointx - circlex, 2) +\n",
        "math.pow(pointy - circley, 2))\n",
        "if distance < radius:\n",
        " print(f\"The point ({pointx}, {pointy}) is inside the circle.\")\n",
        "elif distance == radius:\n",
        " print(f\"The point ({pointx}, {pointy}) is on the circle.\")\n",
        "else:\n",
        " print(f\"The point ({pointx}, {pointy}) is outside the circle.\")"
      ],
      "metadata": {
        "colab": {
          "base_uri": "https://localhost:8080/"
        },
        "id": "dt4nupsFErnE",
        "outputId": "e97be44d-40d7-4214-8dcf-001e0296b5e8"
      },
      "execution_count": 20,
      "outputs": [
        {
          "output_type": "stream",
          "name": "stdout",
          "text": [
            "The point (3, 0) is inside the circle.\n"
          ]
        }
      ]
    },
    {
      "cell_type": "markdown",
      "source": [
        "Convert number 0 to 19 to its equivalent words. E.g. 0  zero, 19 nineteen."
      ],
      "metadata": {
        "id": "o4BTYzd5FURv"
      }
    },
    {
      "cell_type": "code",
      "source": [
        "num = 6\n",
        "num_word = [\n",
        "\"zero\", \"one\", \"two\", \"three\", \"four\", \"five\", \"six\", \"seven\",\n",
        "\"eight\", \"nine\",\n",
        "\"ten\", \"eleven\", \"twelve\", \"thirteen\", \"fourteen\", \"fifteen\",\n",
        "\"sixteen\",\n",
        "\"seventeen\", \"eighteen\", \"nineteen\"\n",
        "]\n",
        "if 0 <= num <= 19:\n",
        " print(f\"The number {num} is written as'{num_word[num]}'.\")\n",
        "else:\n",
        " print(\"Number is out of range (0-19).\")"
      ],
      "metadata": {
        "colab": {
          "base_uri": "https://localhost:8080/"
        },
        "id": "Qx7E-3rDFbrW",
        "outputId": "561383f6-6946-4466-a285-639a0abc9377"
      },
      "execution_count": 24,
      "outputs": [
        {
          "output_type": "stream",
          "name": "stdout",
          "text": [
            "The number 6 is written as'six'.\n"
          ]
        }
      ]
    },
    {
      "cell_type": "markdown",
      "source": [
        "Accept marks of three subjects. Print total and average along with whether a candidate has passed or fail. If student secures <= 39\n",
        " marks in any subject, consider him as fail. Also assigned a subject wise grade based on the following table: bold text"
      ],
      "metadata": {
        "id": "Qzer8X0OF5D9"
      }
    },
    {
      "cell_type": "code",
      "source": [
        "sub1 = int(input(\"Enter the maths marks:\"))\n",
        "sub2 = int(input(\"Enter the chemistry marks:\"))\n",
        "sub3 = int(input(\"Enter the physics marks:\"))\n",
        "sum = ( sub1 + sub2 + sub3 ) / 3\n",
        "if(sub1 <= 39 or sub2 <=39 or sub3<=39):\n",
        " print(\"Fail\")\n",
        "elif(sum>= 40 and sum <=44 ):\n",
        " print(\"P\")\n",
        "elif(sum>= 45 and sum <=49 ):\n",
        " print(\"C\")\n",
        "elif(sum>= 50 and sum <=54 ):\n",
        " print(\"B\")\n",
        "elif(sum>= 55 and sum <=59 ):\n",
        " print(\"B+\")\n",
        "elif(sum>= 60 and sum <= 69 ):\n",
        " print(\"A\")\n",
        "elif(sum>= 70 and sum <= 79):\n",
        " print(\"A+\")\n",
        "elif(sum>= 80 and sum <=100 ):\n",
        " print(\"O\")\n",
        "else:\n",
        " print(\"good\")"
      ],
      "metadata": {
        "colab": {
          "base_uri": "https://localhost:8080/"
        },
        "id": "3I10m8qeF96z",
        "outputId": "705f132b-af94-44d8-a179-ec6707b6f144"
      },
      "execution_count": 25,
      "outputs": [
        {
          "output_type": "stream",
          "name": "stdout",
          "text": [
            "Enter the maths marks:35\n",
            "Enter the chemistry marks:67\n",
            "Enter the physics marks:8\n",
            "Fail\n"
          ]
        }
      ]
    },
    {
      "cell_type": "markdown",
      "source": [],
      "metadata": {
        "id": "GwMSdSY8GS1Z"
      }
    }
  ]
}