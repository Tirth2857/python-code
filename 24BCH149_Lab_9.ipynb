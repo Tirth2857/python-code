{
  "nbformat": 4,
  "nbformat_minor": 0,
  "metadata": {
    "colab": {
      "provenance": [],
      "authorship_tag": "ABX9TyNU9KiruECkkUNzlL2dCIl3"
    },
    "kernelspec": {
      "name": "python3",
      "display_name": "Python 3"
    },
    "language_info": {
      "name": "python"
    }
  },
  "cells": [
    {
      "cell_type": "markdown",
      "source": [
        "If a positive integer is entered through the keyword, write a recursive function to obtain the prime\n",
        "factors of the number."
      ],
      "metadata": {
        "id": "6iNQ5XQ3sUJF"
      }
    },
    {
      "cell_type": "code",
      "execution_count": 2,
      "metadata": {
        "colab": {
          "base_uri": "https://localhost:8080/"
        },
        "id": "6E-Ute0vq7r3",
        "outputId": "4cc7ad5f-0322-465c-bd7d-d7f752b0b8fb"
      },
      "outputs": [
        {
          "output_type": "stream",
          "name": "stdout",
          "text": [
            "Enter a positive integer: 10\n",
            "[2, 5]\n"
          ]
        }
      ],
      "source": [
        "def prime_factors(n, d=2, f=None):\n",
        "    if f is None:\n",
        "        f = []\n",
        "    if n < 2:\n",
        "        return f\n",
        "    if n % d == 0:\n",
        "        f.append(d)\n",
        "        return prime_factors(n//d, d, f)\n",
        "    return prime_factors(n, d+1, f)\n",
        "\n",
        "num = int(input(\"Enter a positive integer: \"))\n",
        "print(prime_factors(num))"
      ]
    },
    {
      "cell_type": "markdown",
      "source": [
        "A positive integer is entered through the keyboard. Write a function to find its binary equivalent of\n",
        "this number."
      ],
      "metadata": {
        "id": "d97EdmpntG1R"
      }
    },
    {
      "cell_type": "code",
      "source": [
        "def to_binary(n):\n",
        "    if n == 0:\n",
        "        return \"0\"\n",
        "    if n == 1:\n",
        "        return \"1\"\n",
        "    return to_binary(n // 2) + str(n % 2)\n",
        "\n",
        "num = int(input(\"Enter a positive integer: \"))\n",
        "print(to_binary(num))"
      ],
      "metadata": {
        "colab": {
          "base_uri": "https://localhost:8080/"
        },
        "id": "cspYhG9GsTEj",
        "outputId": "6f71e951-8c8f-49ba-eacd-15f2895fb14e"
      },
      "execution_count": 3,
      "outputs": [
        {
          "output_type": "stream",
          "name": "stdout",
          "text": [
            "Enter a positive integer: 89\n",
            "1011001\n"
          ]
        }
      ]
    },
    {
      "cell_type": "markdown",
      "source": [
        "A string is entered through the keyboard. Write a recursive function that counts the number of\n",
        "vowels in this string."
      ],
      "metadata": {
        "id": "aXQhTnFBtRJe"
      }
    },
    {
      "cell_type": "code",
      "source": [
        "def count_vowels(s):\n",
        "    if not s:\n",
        "        return 0\n",
        "    return (1 if s[0].lower() in 'aeiou' else 0) + count_vowels(s[1:])\n",
        "\n",
        "string = input(\"Enter a string: \")\n",
        "print(count_vowels(string))"
      ],
      "metadata": {
        "colab": {
          "base_uri": "https://localhost:8080/"
        },
        "id": "EuDSlpqKtYV_",
        "outputId": "c95d9328-1550-41db-bcdd-244dcddf5831"
      },
      "execution_count": 4,
      "outputs": [
        {
          "output_type": "stream",
          "name": "stdout",
          "text": [
            "Enter a string: Tirth Mistry\n",
            "2\n"
          ]
        }
      ]
    },
    {
      "cell_type": "markdown",
      "source": [
        "Write a recursive function that reverses the list of numbers that it receives."
      ],
      "metadata": {
        "id": "FpDU0ALFthVk"
      }
    },
    {
      "cell_type": "code",
      "source": [
        "def reverse_list(lst):\n",
        "    if len(lst) <= 1:\n",
        "        return lst\n",
        "    return [lst[-1]] + reverse_list(lst[:-1])\n",
        "\n",
        "numbers = [1, 2, 3, 4, 5]\n",
        "print(reverse_list(numbers))"
      ],
      "metadata": {
        "colab": {
          "base_uri": "https://localhost:8080/"
        },
        "id": "uiaaicnZtk1W",
        "outputId": "f3b3f154-dc02-41cb-cc2a-349dedb03667"
      },
      "execution_count": 5,
      "outputs": [
        {
          "output_type": "stream",
          "name": "stdout",
          "text": [
            "[5, 4, 3, 2, 1]\n"
          ]
        }
      ]
    },
    {
      "cell_type": "markdown",
      "source": [
        "Calculate ab\n",
        " where a and b received through the keyword using recursion."
      ],
      "metadata": {
        "id": "L75Gz1httrgE"
      }
    },
    {
      "cell_type": "code",
      "source": [
        "def power(a, b):\n",
        "    if b == 0:\n",
        "        return 1\n",
        "    return a * power(a, b - 1)\n",
        "\n",
        "a = int(input(\"Enter base: \"))\n",
        "b = int(input(\"Enter exponent: \"))\n",
        "print(power(a, b))"
      ],
      "metadata": {
        "colab": {
          "base_uri": "https://localhost:8080/"
        },
        "id": "uGMWqGqst3jP",
        "outputId": "4e0586fd-4664-420a-c9d6-2c49d19ee27b"
      },
      "execution_count": 6,
      "outputs": [
        {
          "output_type": "stream",
          "name": "stdout",
          "text": [
            "Enter base: 7\n",
            "Enter exponent: 2\n",
            "49\n"
          ]
        }
      ]
    },
    {
      "cell_type": "markdown",
      "source": [
        "A list contains some negative and some positive values. Write a recursive function that sanitizes the\n",
        "list by replacing all negative numbers with 0."
      ],
      "metadata": {
        "id": "tpJ20Xh3t9D4"
      }
    },
    {
      "cell_type": "code",
      "source": [
        "def sanitize(lst):\n",
        "    if not lst:\n",
        "        return []\n",
        "    return [(lst[0] if lst[0] >= 0 else 0)] + sanitize(lst[1:])\n",
        "\n",
        "numbers = [-4, 9, -1, 0, 5, -7]\n",
        "print(sanitize(numbers))"
      ],
      "metadata": {
        "colab": {
          "base_uri": "https://localhost:8080/"
        },
        "id": "PTkiI6DpuB6b",
        "outputId": "aba266f1-a79a-4829-b6fd-0134c99b0017"
      },
      "execution_count": 7,
      "outputs": [
        {
          "output_type": "stream",
          "name": "stdout",
          "text": [
            "[0, 9, 0, 0, 5, 0]\n"
          ]
        }
      ]
    },
    {
      "cell_type": "markdown",
      "source": [
        "Write a recursive function to obtain average of all numbers present in a given list.\n"
      ],
      "metadata": {
        "id": "h2ZKJ0r-uNOz"
      }
    },
    {
      "cell_type": "code",
      "source": [
        "def average(lst):\n",
        "    if not lst:\n",
        "        return 0\n",
        "    if len(lst) == 1:\n",
        "        return lst[0]\n",
        "    return (lst[0] + (len(lst)-1) * average(lst[1:])) / len(lst)\n",
        "\n",
        "numbers = [5, 15, 25, 35, 45]\n",
        "print(average(numbers))"
      ],
      "metadata": {
        "colab": {
          "base_uri": "https://localhost:8080/"
        },
        "id": "bObi_aP5uTlx",
        "outputId": "a8864ff8-10f1-4ed4-cf7e-bc90a817bb8c"
      },
      "execution_count": 8,
      "outputs": [
        {
          "output_type": "stream",
          "name": "stdout",
          "text": [
            "25.0\n"
          ]
        }
      ]
    },
    {
      "cell_type": "markdown",
      "source": [
        "Write a recursive function to obtain length of a given string."
      ],
      "metadata": {
        "id": "lgQ-ZHs2uWBa"
      }
    },
    {
      "cell_type": "code",
      "source": [
        "def string_length(s):\n",
        "    if s == \"\":\n",
        "        return 0\n",
        "    return 1 + string_length(s[1:])\n",
        "\n",
        "text = input(\"Enter a string: \")\n",
        "print(string_length(text))"
      ],
      "metadata": {
        "colab": {
          "base_uri": "https://localhost:8080/"
        },
        "id": "gfAgTkonubZc",
        "outputId": "3f18eeb1-1322-4433-9aaa-ceca2bce50ca"
      },
      "execution_count": 9,
      "outputs": [
        {
          "output_type": "stream",
          "name": "stdout",
          "text": [
            "Enter a string: Tirth\n",
            "5\n"
          ]
        }
      ]
    }
  ]
}