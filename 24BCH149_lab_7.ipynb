{
  "nbformat": 4,
  "nbformat_minor": 0,
  "metadata": {
    "colab": {
      "provenance": [],
      "authorship_tag": "ABX9TyOhUm22r3O1SXHENqmGI9BB"
    },
    "kernelspec": {
      "name": "python3",
      "display_name": "Python 3"
    },
    "language_info": {
      "name": "python"
    }
  },
  "cells": [
    {
      "cell_type": "markdown",
      "source": [
        "Write a program to create three dictionaries and concatenate them to create fourth dictionary."
      ],
      "metadata": {
        "id": "449cNVoYixIS"
      }
    },
    {
      "cell_type": "code",
      "execution_count": 3,
      "metadata": {
        "colab": {
          "base_uri": "https://localhost:8080/"
        },
        "id": "1pf358RQgljS",
        "outputId": "9ab01170-03bf-47ec-acff-91681f38beea"
      },
      "outputs": [
        {
          "output_type": "stream",
          "name": "stdout",
          "text": [
            "Dictionary 1: {'a': 1, 'b': 2}\n",
            "Dictionary 2: {'c': 3, 'd': 4}\n",
            "Dictionary 3: {'e': 5, 'f': 6}\n",
            "Concatenated Dictionary (Dictionary 4): {'a': 1, 'b': 2, 'c': 3, 'd': 4, 'e': 5, 'f': 6}\n"
          ]
        }
      ],
      "source": [
        "dict1 = {'a': 1, 'b': 2}\n",
        "dict2 = {'c': 3, 'd': 4}\n",
        "dict3 = {'e': 5, 'f': 6}\n",
        "\n",
        "dict4 = {**dict1, **dict2, **dict3}\n",
        "\n",
        "print(\"Dictionary 1:\", dict1)\n",
        "print(\"Dictionary 2:\", dict2)\n",
        "print(\"Dictionary 3:\", dict3)\n",
        "print(\"Concatenated Dictionary (Dictionary 4):\", dict4)"
      ]
    },
    {
      "cell_type": "markdown",
      "source": [
        "Write a program to check whether a dictionary is empty or not."
      ],
      "metadata": {
        "id": "hdpvB54Qjgj_"
      }
    },
    {
      "cell_type": "code",
      "source": [
        "my_dict = {}\n",
        "\n",
        "if my_dict == {}:\n",
        "    print(\"Dictionary is empty.\")\n",
        "else:\n",
        "    print(\"Dictionary is not empty.\")"
      ],
      "metadata": {
        "colab": {
          "base_uri": "https://localhost:8080/"
        },
        "id": "CODIKR9xjkKv",
        "outputId": "dcdf1a6f-3599-45bb-f62f-1e9c0d609838"
      },
      "execution_count": 4,
      "outputs": [
        {
          "output_type": "stream",
          "name": "stdout",
          "text": [
            "Dictionary is empty.\n"
          ]
        }
      ]
    },
    {
      "cell_type": "markdown",
      "source": [
        "Create a dictionary with dept no, employee roll no. and salary. Find out department wise min and maximum of salary"
      ],
      "metadata": {
        "id": "9_vSoGC0jufD"
      }
    },
    {
      "cell_type": "code",
      "source": [
        "employees = [\n",
        "    {'dept_no': 101, 'roll_no': 1, 'salary': 50000},\n",
        "    {'dept_no': 101, 'roll_no': 2, 'salary': 60000},\n",
        "    {'dept_no': 102, 'roll_no': 3, 'salary': 45000},\n",
        "    {'dept_no': 102, 'roll_no': 4, 'salary': 70000},\n",
        "    {'dept_no': 103, 'roll_no': 5, 'salary': 55000},\n",
        "    {'dept_no': 103, 'roll_no': 6, 'salary': 52000}\n",
        "]\n",
        "\n",
        "dept_salaries = {}\n",
        "\n",
        "for emp in employees:\n",
        "    dept = emp['dept_no']\n",
        "    salary = emp['salary']\n",
        "    if dept not in dept_salaries:\n",
        "        dept_salaries[dept] = []\n",
        "    dept_salaries[dept].append(salary)\n",
        "\n",
        "for dept, salaries in dept_salaries.items():\n",
        "    print(f\"Department {dept}: Min Salary = {min(salaries)}, Max Salary = {max(salaries)}\")"
      ],
      "metadata": {
        "colab": {
          "base_uri": "https://localhost:8080/"
        },
        "id": "GFgGRv7qkF1U",
        "outputId": "4ca41891-f1df-45c4-833d-a0ca4e4aa1dd"
      },
      "execution_count": 5,
      "outputs": [
        {
          "output_type": "stream",
          "name": "stdout",
          "text": [
            "Department 101: Min Salary = 50000, Max Salary = 60000\n",
            "Department 102: Min Salary = 45000, Max Salary = 70000\n",
            "Department 103: Min Salary = 52000, Max Salary = 55000\n"
          ]
        }
      ]
    },
    {
      "cell_type": "markdown",
      "source": [
        "Write a program that reads a string from the keyboard and creates dictionary containing frequency of each character occurring in the string"
      ],
      "metadata": {
        "id": "sD_0Q5cykHAu"
      }
    },
    {
      "cell_type": "code",
      "source": [
        "text = input(\"Enter a string: \")\n",
        "char_freq = {}\n",
        "\n",
        "for char in text:\n",
        "    if char in char_freq:\n",
        "        char_freq[char] += 1\n",
        "    else:\n",
        "        char_freq[char] = 1\n",
        "\n",
        "print(\"Character Frequencies:\", char_freq)"
      ],
      "metadata": {
        "colab": {
          "base_uri": "https://localhost:8080/"
        },
        "id": "T1vn4-k4kiVO",
        "outputId": "05eb6f99-3eb3-4556-cc05-734c7937c711"
      },
      "execution_count": 7,
      "outputs": [
        {
          "output_type": "stream",
          "name": "stdout",
          "text": [
            "Enter a string: Tirth Mistry\n",
            "Character Frequencies: {'T': 1, 'i': 2, 'r': 2, 't': 2, 'h': 1, ' ': 1, 'M': 1, 's': 1, 'y': 1}\n"
          ]
        }
      ]
    },
    {
      "cell_type": "markdown",
      "source": [
        "Create two dictionaries – one containing grocery items and their prices and another containing grocery items and quantity purchased. By using the values from these two dictionaries compute the total bill."
      ],
      "metadata": {
        "id": "1L6WZ3o2lhiF"
      }
    },
    {
      "cell_type": "code",
      "source": [
        "prices = {'rice': 50, 'wheat': 40, 'milk': 30, 'sugar': 20}\n",
        "quantities = {'rice': 2, 'wheat': 3, 'milk': 5, 'sugar': 1}\n",
        "\n",
        "total = 0\n",
        "\n",
        "for item in prices:\n",
        "    if item in quantities:\n",
        "        total += prices[item] * quantities[item]\n",
        "\n",
        "print(\"Total Bill:\", total)"
      ],
      "metadata": {
        "colab": {
          "base_uri": "https://localhost:8080/"
        },
        "id": "dZgDKSGpl4ZP",
        "outputId": "56c45bb4-ef85-455c-c4d8-594c16319d20"
      },
      "execution_count": 8,
      "outputs": [
        {
          "output_type": "stream",
          "name": "stdout",
          "text": [
            "Total Bill: 390\n"
          ]
        }
      ]
    }
  ]
}