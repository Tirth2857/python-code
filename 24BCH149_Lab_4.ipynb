{
  "nbformat": 4,
  "nbformat_minor": 0,
  "metadata": {
    "colab": {
      "provenance": [],
      "authorship_tag": "ABX9TyP4HCmFyfuZ31ihdr2QK3w/"
    },
    "kernelspec": {
      "name": "python3",
      "display_name": "Python 3"
    },
    "language_info": {
      "name": "python"
    }
  },
  "cells": [
    {
      "cell_type": "markdown",
      "source": [
        " 1. Create a list of 5 odd integers using random nos. Similarly create a list of 4 even integers using random nos. Replace the third element\n",
        " of odd integers with a list of 4 even integers. Flattern, sort and print the list. Provide appropriate message at each stage."
      ],
      "metadata": {
        "id": "ryRUqb16EASG"
      }
    },
    {
      "cell_type": "code",
      "source": [
        "import random\n",
        "\n",
        "odd_integers = [random.choice(range(1, 100, 2)) for _ in range(5)]\n",
        "print(\"List of 5 odd integers:\", odd_integers)\n",
        "\n",
        "even_integers = [random.choice(range(2, 100, 2)) for _ in range(4)]\n",
        "print(\"List of 4 even integers:\", even_integers)\n",
        "\n",
        "odd_integers[2] = even_integers\n",
        "print(f\"After replacing the third element of odd_integers with even_integers: {odd_integers}\")\n",
        "\n",
        "flattened_list = [item for sublist in odd_integers for item in (sublist if isinstance(sublist, list) else [sublist])]\n",
        "print(\"Flattened list:\", flattened_list)\n",
        "\n",
        "flattened_list.sort()\n",
        "print(\"Sorted flattened list:\", flattened_list)\n"
      ],
      "metadata": {
        "colab": {
          "base_uri": "https://localhost:8080/"
        },
        "id": "wLbJDts0CX62",
        "outputId": "ee996e83-0fe5-4762-b7c5-d03ed31e83dc"
      },
      "execution_count": 1,
      "outputs": [
        {
          "output_type": "stream",
          "name": "stdout",
          "text": [
            "List of 5 odd integers: [1, 49, 21, 49, 29]\n",
            "List of 4 even integers: [88, 80, 84, 12]\n",
            "After replacing the third element of odd_integers with even_integers: [1, 49, [88, 80, 84, 12], 49, 29]\n",
            "Flattened list: [1, 49, 88, 80, 84, 12, 49, 29]\n",
            "Sorted flattened list: [1, 12, 29, 49, 49, 80, 84, 88]\n"
          ]
        }
      ]
    },
    {
      "cell_type": "markdown",
      "source": [
        "2.) Generate 20 random integers and store them in a list. Accept a number from the user and print position of all occurrences of that number\n",
        " in the list."
      ],
      "metadata": {
        "id": "mSc2vlSjCoiA"
      }
    },
    {
      "cell_type": "code",
      "source": [
        "import random\n",
        "\n",
        "random_integers = [random.randint(1, 100) for _ in range(20)]\n",
        "print(\"List of 20 random integers:\", random_integers)\n",
        "\n",
        "number = int(input(\"Enter a number to search for: \"))\n",
        "\n",
        "positions = [i for i, x in enumerate(random_integers) if x == number]\n",
        "\n",
        "if positions:\n",
        "    print(f\"Positions of {number} in the list: {positions}\")\n",
        "else:\n",
        "    print(f\"{number} is not present in the list.\")\n"
      ],
      "metadata": {
        "colab": {
          "base_uri": "https://localhost:8080/"
        },
        "id": "cq-i6T3oCqGC",
        "outputId": "b8b999ac-d5b8-4194-c2c1-c975b80a3d74"
      },
      "execution_count": 2,
      "outputs": [
        {
          "output_type": "stream",
          "name": "stdout",
          "text": [
            "List of 20 random integers: [27, 11, 68, 80, 40, 72, 3, 39, 7, 40, 57, 67, 81, 33, 83, 30, 96, 35, 29, 38]\n",
            "Enter a number to search for: 87\n",
            "87 is not present in the list.\n"
          ]
        }
      ]
    },
    {
      "cell_type": "markdown",
      "source": [
        " 3.) Generate 50 random numbers in the range 1 and 30. Remove all duplicate values from the list"
      ],
      "metadata": {
        "id": "35GZUkq9C4MQ"
      }
    },
    {
      "cell_type": "code",
      "source": [
        "import random\n",
        "\n",
        "random_numbers = [random.randint(1, 30) for _ in range(50)]\n",
        "print(\"Generated list of 50 random numbers:\", random_numbers)\n",
        "\n",
        "unique_numbers = list(set(random_numbers))\n",
        "print(\"List after removing duplicates:\", unique_numbers)"
      ],
      "metadata": {
        "colab": {
          "base_uri": "https://localhost:8080/"
        },
        "id": "WHTwp6RPC77a",
        "outputId": "935ed79f-dad0-4095-bc9f-705d325da4fd"
      },
      "execution_count": 4,
      "outputs": [
        {
          "output_type": "stream",
          "name": "stdout",
          "text": [
            "Generated list of 50 random numbers: [19, 25, 25, 6, 16, 8, 3, 18, 17, 21, 4, 10, 17, 17, 12, 26, 20, 23, 19, 25, 6, 29, 7, 16, 20, 28, 8, 7, 11, 7, 7, 4, 9, 15, 11, 29, 30, 5, 24, 19, 13, 27, 17, 29, 17, 17, 13, 7, 2, 21]\n",
            "List after removing duplicates: [2, 3, 4, 5, 6, 7, 8, 9, 10, 11, 12, 13, 15, 16, 17, 18, 19, 20, 21, 23, 24, 25, 26, 27, 28, 29, 30]\n"
          ]
        }
      ]
    },
    {
      "cell_type": "markdown",
      "source": [
        "4.) Generate 30 random numbers and put them in a list. Create two more lists – one containing only +ve numbers and another with –ve nos."
      ],
      "metadata": {
        "id": "K6fWN9AcDAi7"
      }
    },
    {
      "cell_type": "code",
      "source": [
        "import random\n",
        "\n",
        "random_numbers = [random.randint(-50, 50) for _ in range(30)]\n",
        "print(\"Generated list of 30 random numbers:\", random_numbers)\n",
        "\n",
        "positive_numbers = [num for num in random_numbers if num > 0]\n",
        "negative_numbers = [num for num in random_numbers if num < 0]\n",
        "\n",
        "print(\"List of positive numbers:\", positive_numbers)\n",
        "print(\"List of negative numbers:\", negative_numbers)\n"
      ],
      "metadata": {
        "colab": {
          "base_uri": "https://localhost:8080/"
        },
        "id": "OPv8D0iGDKGn",
        "outputId": "966cf8a2-31e6-4348-c3db-a1c018386d4e"
      },
      "execution_count": 5,
      "outputs": [
        {
          "output_type": "stream",
          "name": "stdout",
          "text": [
            "Generated list of 30 random numbers: [-38, -32, 13, -11, 46, 13, 49, 24, -12, 44, 33, -1, -6, -13, -21, -44, -41, 3, 38, -40, 22, 29, 20, 30, -39, -35, -42, 4, -29, -20]\n",
            "List of positive numbers: [13, 46, 13, 49, 24, 44, 33, 3, 38, 22, 29, 20, 30, 4]\n",
            "List of negative numbers: [-38, -32, -11, -12, -1, -6, -13, -21, -44, -41, -40, -39, -35, -42, -29, -20]\n"
          ]
        }
      ]
    },
    {
      "cell_type": "markdown",
      "source": [
        " 5.) A list contains 5 strings. Convert all these strings to uppercase"
      ],
      "metadata": {
        "id": "A-4yxWD9DYFn"
      }
    },
    {
      "cell_type": "code",
      "source": [
        "strings = [\"hello\", \"world\", \"python\", \"programming\", \"language\"]\n",
        "print(\"Original list of strings:\", strings)\n",
        "\n",
        "uppercase_strings = [s.upper() for s in strings]\n",
        "print(\"List of strings in uppercase:\", uppercase_strings)"
      ],
      "metadata": {
        "colab": {
          "base_uri": "https://localhost:8080/"
        },
        "id": "gRGkExiJDb8n",
        "outputId": "f9f70be6-baaf-464e-d6b6-dea35c242045"
      },
      "execution_count": 6,
      "outputs": [
        {
          "output_type": "stream",
          "name": "stdout",
          "text": [
            "Original list of strings: ['hello', 'world', 'python', 'programming', 'language']\n",
            "List of strings in uppercase: ['HELLO', 'WORLD', 'PYTHON', 'PROGRAMMING', 'LANGUAGE']\n"
          ]
        }
      ]
    },
    {
      "cell_type": "markdown",
      "source": [
        "6. Convert list of temperatures in Fahrenheit degrees to equivalent Celsius degrees."
      ],
      "metadata": {
        "id": "M6gw55EWDo8w"
      }
    },
    {
      "cell_type": "code",
      "source": [
        "fahrenheit_temps = [32, 45, 50, 72, 100]\n",
        "celsius_temps = [(f - 32) * 5.0 / 9.0 for f in fahrenheit_temps]\n",
        "print(\"Equivalent temperatures in Celsius:\", celsius_temps)"
      ],
      "metadata": {
        "colab": {
          "base_uri": "https://localhost:8080/"
        },
        "id": "B_OnIyhFDqMA",
        "outputId": "7b8e5346-eafc-4fc8-b167-0cd8b06c6b53"
      },
      "execution_count": 8,
      "outputs": [
        {
          "output_type": "stream",
          "name": "stdout",
          "text": [
            "Equivalent temperatures in Celsius: [0.0, 7.222222222222222, 10.0, 22.22222222222222, 37.77777777777778]\n"
          ]
        }
      ]
    },
    {
      "cell_type": "markdown",
      "source": [
        " 7. Write a menu-driven program to implement the stack data structure"
      ],
      "metadata": {
        "id": "LPP2HdWNEC4O"
      }
    },
    {
      "cell_type": "code",
      "source": [
        "stack = []\n",
        "\n",
        "def push(item):\n",
        "    stack.append(item)\n",
        "    print(f\"{item} pushed onto stack.\")\n",
        "\n",
        "def pop():\n",
        "    if stack:\n",
        "        item = stack.pop()\n",
        "        print(f\"{item} popped from stack.\")\n",
        "    else:\n",
        "        print(\"Stack is empty.\")\n",
        "\n",
        "def peek():\n",
        "    if stack:\n",
        "        print(f\"Top element is {stack[-1]}\")\n",
        "    else:\n",
        "        print(\"Stack is empty.\")\n",
        "\n",
        "def display():\n",
        "    if stack:\n",
        "        print(\"Current stack:\", stack)\n",
        "    else:\n",
        "        print(\"Stack is empty.\")\n",
        "\n",
        "while True:\n",
        "    print(\"\\nMenu:\")\n",
        "    print(\"1. Push\")\n",
        "    print(\"2. Pop\")\n",
        "    print(\"3. Peek\")\n",
        "    print(\"4. Display Stack\")\n",
        "    print(\"5. Exit\")\n",
        "\n",
        "    choice = int(input(\"Enter your choice: \"))\n",
        "\n",
        "    if choice == 1:\n",
        "        item = int(input(\"Enter a number to push onto the stack: \"))\n",
        "        push(item)\n",
        "    elif choice == 2:\n",
        "        pop()\n",
        "    elif choice == 3:\n",
        "        peek()\n",
        "    elif choice == 4:\n",
        "        display()\n",
        "    elif choice == 5:\n",
        "        print(\"Exiting program.\")\n",
        "        break\n",
        "    else:\n",
        "        print(\"Invalid choice, please try again.\")"
      ],
      "metadata": {
        "colab": {
          "base_uri": "https://localhost:8080/",
          "height": 807
        },
        "id": "mEzXz2vfGFjE",
        "outputId": "6c4e5597-692b-4456-ae5d-87c7b50316f2"
      },
      "execution_count": 14,
      "outputs": [
        {
          "output_type": "stream",
          "name": "stdout",
          "text": [
            "\n",
            "Menu:\n",
            "1. Push\n",
            "2. Pop\n",
            "3. Peek\n",
            "4. Display Stack\n",
            "5. Exit\n",
            "Enter your choice: 1\n",
            "Enter a number to push onto the stack: 1\n",
            "1 pushed onto stack.\n",
            "\n",
            "Menu:\n",
            "1. Push\n",
            "2. Pop\n",
            "3. Peek\n",
            "4. Display Stack\n",
            "5. Exit\n",
            "Enter your choice: 4\n",
            "Current stack: [1]\n",
            "\n",
            "Menu:\n",
            "1. Push\n",
            "2. Pop\n",
            "3. Peek\n",
            "4. Display Stack\n",
            "5. Exit\n"
          ]
        },
        {
          "output_type": "error",
          "ename": "KeyboardInterrupt",
          "evalue": "Interrupted by user",
          "traceback": [
            "\u001b[0;31m---------------------------------------------------------------------------\u001b[0m",
            "\u001b[0;31mKeyboardInterrupt\u001b[0m                         Traceback (most recent call last)",
            "\u001b[0;32m<ipython-input-14-71624213678a>\u001b[0m in \u001b[0;36m<cell line: 0>\u001b[0;34m()\u001b[0m\n\u001b[1;32m     32\u001b[0m     \u001b[0mprint\u001b[0m\u001b[0;34m(\u001b[0m\u001b[0;34m\"5. Exit\"\u001b[0m\u001b[0;34m)\u001b[0m\u001b[0;34m\u001b[0m\u001b[0;34m\u001b[0m\u001b[0m\n\u001b[1;32m     33\u001b[0m \u001b[0;34m\u001b[0m\u001b[0m\n\u001b[0;32m---> 34\u001b[0;31m     \u001b[0mchoice\u001b[0m \u001b[0;34m=\u001b[0m \u001b[0mint\u001b[0m\u001b[0;34m(\u001b[0m\u001b[0minput\u001b[0m\u001b[0;34m(\u001b[0m\u001b[0;34m\"Enter your choice: \"\u001b[0m\u001b[0;34m)\u001b[0m\u001b[0;34m)\u001b[0m\u001b[0;34m\u001b[0m\u001b[0;34m\u001b[0m\u001b[0m\n\u001b[0m\u001b[1;32m     35\u001b[0m \u001b[0;34m\u001b[0m\u001b[0m\n\u001b[1;32m     36\u001b[0m     \u001b[0;32mif\u001b[0m \u001b[0mchoice\u001b[0m \u001b[0;34m==\u001b[0m \u001b[0;36m1\u001b[0m\u001b[0;34m:\u001b[0m\u001b[0;34m\u001b[0m\u001b[0;34m\u001b[0m\u001b[0m\n",
            "\u001b[0;32m/usr/local/lib/python3.11/dist-packages/ipykernel/kernelbase.py\u001b[0m in \u001b[0;36mraw_input\u001b[0;34m(self, prompt)\u001b[0m\n\u001b[1;32m   1175\u001b[0m                 \u001b[0;34m\"raw_input was called, but this frontend does not support input requests.\"\u001b[0m\u001b[0;34m\u001b[0m\u001b[0;34m\u001b[0m\u001b[0m\n\u001b[1;32m   1176\u001b[0m             )\n\u001b[0;32m-> 1177\u001b[0;31m         return self._input_request(\n\u001b[0m\u001b[1;32m   1178\u001b[0m             \u001b[0mstr\u001b[0m\u001b[0;34m(\u001b[0m\u001b[0mprompt\u001b[0m\u001b[0;34m)\u001b[0m\u001b[0;34m,\u001b[0m\u001b[0;34m\u001b[0m\u001b[0;34m\u001b[0m\u001b[0m\n\u001b[1;32m   1179\u001b[0m             \u001b[0mself\u001b[0m\u001b[0;34m.\u001b[0m\u001b[0m_parent_ident\u001b[0m\u001b[0;34m[\u001b[0m\u001b[0;34m\"shell\"\u001b[0m\u001b[0;34m]\u001b[0m\u001b[0;34m,\u001b[0m\u001b[0;34m\u001b[0m\u001b[0;34m\u001b[0m\u001b[0m\n",
            "\u001b[0;32m/usr/local/lib/python3.11/dist-packages/ipykernel/kernelbase.py\u001b[0m in \u001b[0;36m_input_request\u001b[0;34m(self, prompt, ident, parent, password)\u001b[0m\n\u001b[1;32m   1217\u001b[0m             \u001b[0;32mexcept\u001b[0m \u001b[0mKeyboardInterrupt\u001b[0m\u001b[0;34m:\u001b[0m\u001b[0;34m\u001b[0m\u001b[0;34m\u001b[0m\u001b[0m\n\u001b[1;32m   1218\u001b[0m                 \u001b[0;31m# re-raise KeyboardInterrupt, to truncate traceback\u001b[0m\u001b[0;34m\u001b[0m\u001b[0;34m\u001b[0m\u001b[0m\n\u001b[0;32m-> 1219\u001b[0;31m                 \u001b[0;32mraise\u001b[0m \u001b[0mKeyboardInterrupt\u001b[0m\u001b[0;34m(\u001b[0m\u001b[0;34m\"Interrupted by user\"\u001b[0m\u001b[0;34m)\u001b[0m \u001b[0;32mfrom\u001b[0m \u001b[0;32mNone\u001b[0m\u001b[0;34m\u001b[0m\u001b[0;34m\u001b[0m\u001b[0m\n\u001b[0m\u001b[1;32m   1220\u001b[0m             \u001b[0;32mexcept\u001b[0m \u001b[0mException\u001b[0m\u001b[0;34m:\u001b[0m\u001b[0;34m\u001b[0m\u001b[0;34m\u001b[0m\u001b[0m\n\u001b[1;32m   1221\u001b[0m                 \u001b[0mself\u001b[0m\u001b[0;34m.\u001b[0m\u001b[0mlog\u001b[0m\u001b[0;34m.\u001b[0m\u001b[0mwarning\u001b[0m\u001b[0;34m(\u001b[0m\u001b[0;34m\"Invalid Message:\"\u001b[0m\u001b[0;34m,\u001b[0m \u001b[0mexc_info\u001b[0m\u001b[0;34m=\u001b[0m\u001b[0;32mTrue\u001b[0m\u001b[0;34m)\u001b[0m\u001b[0;34m\u001b[0m\u001b[0;34m\u001b[0m\u001b[0m\n",
            "\u001b[0;31mKeyboardInterrupt\u001b[0m: Interrupted by user"
          ]
        }
      ]
    },
    {
      "cell_type": "markdown",
      "source": [
        " 8. Write a menu-driven program to implement the Queue data structure."
      ],
      "metadata": {
        "id": "NrwAqVIJEcoJ"
      }
    },
    {
      "cell_type": "code",
      "source": [
        "queue = []\n",
        "\n",
        "while True:\n",
        "    print(\"\\n1. Enqueue\")\n",
        "    print(\"2. Dequeue\")\n",
        "    print(\"3. Display Queue\")\n",
        "    print(\"4. Exit\")\n",
        "\n",
        "    choice = int(input(\"Enter your choice: \"))\n",
        "\n",
        "    if choice == 1:\n",
        "        item = int(input(\"Enter a number to add to the queue: \"))\n",
        "        queue.append(item)\n",
        "        print(f\"{item} added to queue.\")\n",
        "\n",
        "    elif choice == 2:\n",
        "        if queue:\n",
        "            item = queue.pop(0)\n",
        "            print(f\"{item} removed from queue.\")\n",
        "        else:\n",
        "            print(\"Queue is empty.\")\n",
        "\n",
        "    elif choice == 3:\n",
        "        if queue:\n",
        "            print(\"Queue:\", queue)\n",
        "        else:\n",
        "            print(\"Queue is empty.\")\n",
        "\n",
        "    elif choice == 4:\n",
        "        print(\"Exiting the program.\")\n",
        "        break\n",
        "\n",
        "    else:\n",
        "        print(\"Invalid choice, please try again.\")\n"
      ],
      "metadata": {
        "colab": {
          "base_uri": "https://localhost:8080/"
        },
        "id": "E3GQnpEWF1ET",
        "outputId": "351c88af-a900-4656-806e-83298f091065"
      },
      "execution_count": 10,
      "outputs": [
        {
          "output_type": "stream",
          "name": "stdout",
          "text": [
            "\n",
            "1. Enqueue\n",
            "2. Dequeue\n",
            "3. Display Queue\n",
            "4. Exit\n",
            "Enter your choice: 5\n",
            "Invalid choice, please try again.\n",
            "\n",
            "1. Enqueue\n",
            "2. Dequeue\n",
            "3. Display Queue\n",
            "4. Exit\n",
            "Enter your choice: 4\n",
            "Exiting the program.\n"
          ]
        }
      ]
    },
    {
      "cell_type": "markdown",
      "source": [
        " 9. Take two lists of numbers. Create third list of numbers for only those numbers from first list which are not there in 2 nd list (use list\n",
        " comprehension)"
      ],
      "metadata": {
        "id": "a5uUizR0G1nh"
      }
    },
    {
      "cell_type": "code",
      "source": [
        "list1 = [1, 2, 3, 4, 5, 6]\n",
        "list2 = [4, 5, 6, 7, 8, 9]\n",
        "\n",
        "list3 = [num for num in list1 if num not in list2]\n",
        "\n",
        "print(\"Numbers from list1 that are not in list2:\", list3)"
      ],
      "metadata": {
        "colab": {
          "base_uri": "https://localhost:8080/"
        },
        "id": "bPJoC4RTHGNQ",
        "outputId": "682dea1e-48c6-4e22-b601-ba9c128ffe8b"
      },
      "execution_count": 15,
      "outputs": [
        {
          "output_type": "stream",
          "name": "stdout",
          "text": [
            "Numbers from list1 that are not in list2: [1, 2, 3]\n"
          ]
        }
      ]
    },
    {
      "cell_type": "markdown",
      "source": [],
      "metadata": {
        "id": "NeTYYRT5HNVT"
      }
    }
  ]
}