{
  "nbformat": 4,
  "nbformat_minor": 0,
  "metadata": {
    "colab": {
      "provenance": [],
      "authorship_tag": "ABX9TyM8hS5jxPP2s4ULoWcsbObh",
      "include_colab_link": true
    },
    "kernelspec": {
      "name": "python3",
      "display_name": "Python 3"
    },
    "language_info": {
      "name": "python"
    }
  },
  "cells": [
    {
      "cell_type": "markdown",
      "metadata": {
        "id": "view-in-github",
        "colab_type": "text"
      },
      "source": [
        "<a href=\"https://colab.research.google.com/github/Tirth2857/python-code/blob/main/Tirth_Mistry24BCH149_lab1.ipynb\" target=\"_parent\"><img src=\"https://colab.research.google.com/assets/colab-badge.svg\" alt=\"Open In Colab\"/></a>"
      ]
    },
    {
      "cell_type": "markdown",
      "source": [
        " 1.) Add two numbers"
      ],
      "metadata": {
        "id": "AKfp_Xps28aS"
      }
    },
    {
      "cell_type": "code",
      "execution_count": 10,
      "metadata": {
        "colab": {
          "base_uri": "https://localhost:8080/"
        },
        "id": "bMJmL1k6w5xW",
        "outputId": "f816b33f-82bc-40e0-9bf0-b982ef3105f4"
      },
      "outputs": [
        {
          "output_type": "stream",
          "name": "stdout",
          "text": [
            "9\n"
          ]
        }
      ],
      "source": [
        " a=4\n",
        " b=5\n",
        " ans=a+b\n",
        " print(ans)"
      ]
    },
    {
      "cell_type": "markdown",
      "source": [
        "Subtract two numbers"
      ],
      "metadata": {
        "id": "q4-h-p4s3OOU"
      }
    },
    {
      "cell_type": "code",
      "source": [
        " a=6\n",
        " b=5\n",
        " ans=a-b\n",
        " print(ans)"
      ],
      "metadata": {
        "colab": {
          "base_uri": "https://localhost:8080/"
        },
        "id": "WpQjn-5W1F8L",
        "outputId": "2cdc8110-83a4-439c-9772-09ec7d51c77d"
      },
      "execution_count": 11,
      "outputs": [
        {
          "output_type": "stream",
          "name": "stdout",
          "text": [
            "1\n"
          ]
        }
      ]
    },
    {
      "cell_type": "markdown",
      "source": [
        "Multiply two numbers"
      ],
      "metadata": {
        "id": "u4PW6dhs3snM"
      }
    },
    {
      "cell_type": "code",
      "source": [
        " a=87\n",
        " b=2\n",
        " ans=a*b\n",
        " print(ans)"
      ],
      "metadata": {
        "colab": {
          "base_uri": "https://localhost:8080/"
        },
        "id": "TgMkrq8C3cZg",
        "outputId": "df1642ed-b552-415a-e3b2-c0f1f9b0fc8c"
      },
      "execution_count": 12,
      "outputs": [
        {
          "output_type": "stream",
          "name": "stdout",
          "text": [
            "174\n"
          ]
        }
      ]
    },
    {
      "cell_type": "markdown",
      "source": [
        "Divide two numbers"
      ],
      "metadata": {
        "id": "xnTSetRK3-It"
      }
    },
    {
      "cell_type": "code",
      "source": [
        " a=15\n",
        " b=5\n",
        " ans=a/b\n",
        " print(ans)"
      ],
      "metadata": {
        "colab": {
          "base_uri": "https://localhost:8080/"
        },
        "id": "5MCPKXBx3xau",
        "outputId": "1545794b-8410-44bb-9fd9-0232cedcf60f"
      },
      "execution_count": 13,
      "outputs": [
        {
          "output_type": "stream",
          "name": "stdout",
          "text": [
            "3.0\n"
          ]
        }
      ]
    },
    {
      "cell_type": "markdown",
      "source": [
        "Add subtract multiply and divide"
      ],
      "metadata": {
        "id": "IvOk7N2P4ibM"
      }
    },
    {
      "cell_type": "code",
      "source": [
        " a=100\n",
        " b=5\n",
        " j=a+b\n",
        " k=a-b\n",
        " l=a*b\n",
        " m=a/b\n",
        " print(j,k,l,m)"
      ],
      "metadata": {
        "colab": {
          "base_uri": "https://localhost:8080/"
        },
        "id": "2Z1NuZ134CAw",
        "outputId": "0bec52d9-63cc-4420-a18e-1cfe83572892"
      },
      "execution_count": 16,
      "outputs": [
        {
          "output_type": "stream",
          "name": "stdout",
          "text": [
            "105 95 500 20.0\n"
          ]
        }
      ]
    },
    {
      "cell_type": "markdown",
      "source": [
        "Hours into minutes"
      ],
      "metadata": {
        "id": "Gxfb_Q2x41qF"
      }
    },
    {
      "cell_type": "code",
      "source": [
        " hours=5\n",
        " min=hours*60\n",
        " print(min)"
      ],
      "metadata": {
        "colab": {
          "base_uri": "https://localhost:8080/"
        },
        "id": "ijT0i5Jp4pKL",
        "outputId": "3d2f5a6b-b62e-46e9-8179-44d40aa928c5"
      },
      "execution_count": 17,
      "outputs": [
        {
          "output_type": "stream",
          "name": "stdout",
          "text": [
            "300\n"
          ]
        }
      ]
    },
    {
      "cell_type": "markdown",
      "source": [
        "minutes to hours"
      ],
      "metadata": {
        "id": "VUueAiRr5DKg"
      }
    },
    {
      "cell_type": "code",
      "source": [
        " min=120\n",
        " hours=min/60\n",
        " print(hours)"
      ],
      "metadata": {
        "colab": {
          "base_uri": "https://localhost:8080/"
        },
        "id": "5jI8tRRA461K",
        "outputId": "abbce3e5-d886-4e66-8fc9-3aef5e36cb7f"
      },
      "execution_count": 18,
      "outputs": [
        {
          "output_type": "stream",
          "name": "stdout",
          "text": [
            "2.0\n"
          ]
        }
      ]
    },
    {
      "cell_type": "markdown",
      "source": [
        "dollar to rs"
      ],
      "metadata": {
        "id": "W2eAPyz05ab9"
      }
    },
    {
      "cell_type": "code",
      "source": [
        " dollar=100\n",
        " rs=dollar*48\n",
        " print(rs)"
      ],
      "metadata": {
        "colab": {
          "base_uri": "https://localhost:8080/"
        },
        "id": "98f3gt9A5NXA",
        "outputId": "7f51c37f-e8be-4c58-cbbf-a7a11bb2ddc3"
      },
      "execution_count": 20,
      "outputs": [
        {
          "output_type": "stream",
          "name": "stdout",
          "text": [
            "4800\n"
          ]
        }
      ]
    },
    {
      "cell_type": "markdown",
      "source": [
        "rs to dollers"
      ],
      "metadata": {
        "id": "qiWII2g05qva"
      }
    },
    {
      "cell_type": "code",
      "source": [
        " rs=4800\n",
        " dollar=rs/48\n",
        " print(dollar)"
      ],
      "metadata": {
        "colab": {
          "base_uri": "https://localhost:8080/"
        },
        "id": "8SK6PgYE5hLB",
        "outputId": "bf2b38e8-7741-4b2d-be1b-8a882e19e2fa"
      },
      "execution_count": 22,
      "outputs": [
        {
          "output_type": "stream",
          "name": "stdout",
          "text": [
            "100.0\n"
          ]
        }
      ]
    },
    {
      "cell_type": "markdown",
      "source": [
        "Convert dollars into pound where 1 $ = 48 Rs. And 1 pound = 70 Rs."
      ],
      "metadata": {
        "id": "4XYUCM1m5124"
      }
    },
    {
      "cell_type": "code",
      "source": [
        " dollar=1000\n",
        " rs=dollar*48\n",
        " pound=rs/70\n",
        " print(pound)"
      ],
      "metadata": {
        "colab": {
          "base_uri": "https://localhost:8080/"
        },
        "id": "tZxVzLFG5srx",
        "outputId": "13f0b549-f8a3-450e-a7da-7e9f6ab084f1"
      },
      "execution_count": 23,
      "outputs": [
        {
          "output_type": "stream",
          "name": "stdout",
          "text": [
            "685.7142857142857\n"
          ]
        }
      ]
    },
    {
      "cell_type": "markdown",
      "source": [
        "Convert grams into kg."
      ],
      "metadata": {
        "id": "TH46BF6d6DVr"
      }
    },
    {
      "cell_type": "code",
      "source": [
        " gms=1000\n",
        " kg=gms/1000\n",
        " print(kg)"
      ],
      "metadata": {
        "colab": {
          "base_uri": "https://localhost:8080/"
        },
        "id": "ZK8K91yH56zU",
        "outputId": "32935ef3-63da-4688-b211-e53198b2dcbe"
      },
      "execution_count": 24,
      "outputs": [
        {
          "output_type": "stream",
          "name": "stdout",
          "text": [
            "1.0\n"
          ]
        }
      ]
    },
    {
      "cell_type": "markdown",
      "source": [
        " Convert kgs into grams."
      ],
      "metadata": {
        "id": "3Bo2mlg96SHN"
      }
    },
    {
      "cell_type": "code",
      "source": [
        " kg=5\n",
        " gms=kg*1000\n",
        " print(gms)"
      ],
      "metadata": {
        "colab": {
          "base_uri": "https://localhost:8080/"
        },
        "id": "C2qidsmY6HOB",
        "outputId": "0feed627-c7d3-4618-d7c3-a8d74f26bd80"
      },
      "execution_count": 25,
      "outputs": [
        {
          "output_type": "stream",
          "name": "stdout",
          "text": [
            "5000\n"
          ]
        }
      ]
    },
    {
      "cell_type": "markdown",
      "source": [
        " Convert bytes into KB, MB and GB"
      ],
      "metadata": {
        "id": "QIUMrsBG6WeD"
      }
    },
    {
      "cell_type": "code",
      "source": [
        " bytes=1000000000\n",
        " kb=bytes/1024\n",
        " mb=kb/1024\n",
        " gb=mb/1024\n",
        " print(kb,mb,gb)"
      ],
      "metadata": {
        "colab": {
          "base_uri": "https://localhost:8080/"
        },
        "id": "uoJUKmcr6aUc",
        "outputId": "b2d9dbbd-d0bd-44f5-e117-22e93cce3028"
      },
      "execution_count": 26,
      "outputs": [
        {
          "output_type": "stream",
          "name": "stdout",
          "text": [
            "976562.5 953.67431640625 0.9313225746154785\n"
          ]
        }
      ]
    },
    {
      "cell_type": "markdown",
      "source": [
        " Convert celcius into Fahrenheit"
      ],
      "metadata": {
        "id": "t-oZo05C6_so"
      }
    },
    {
      "cell_type": "code",
      "source": [
        "c=36\n",
        "f=(9/5*c)+32\n",
        "print(f)"
      ],
      "metadata": {
        "colab": {
          "base_uri": "https://localhost:8080/"
        },
        "id": "F0voD5O17Adv",
        "outputId": "f1f2d1e2-a7f1-46a5-c061-799769efe6d8"
      },
      "execution_count": 30,
      "outputs": [
        {
          "output_type": "stream",
          "name": "stdout",
          "text": [
            "96.8\n"
          ]
        }
      ]
    },
    {
      "cell_type": "markdown",
      "source": [
        "Convert Fahrenheit into celcius"
      ],
      "metadata": {
        "id": "-FDZDCN_7MHo"
      }
    },
    {
      "cell_type": "code",
      "source": [
        "f=100\n",
        "c=5/9*(f-32)\n",
        "print(c)"
      ],
      "metadata": {
        "colab": {
          "base_uri": "https://localhost:8080/"
        },
        "id": "WUe1lcp87PDr",
        "outputId": "60e9dcab-641e-4623-e0d7-cda03512c22b"
      },
      "execution_count": 33,
      "outputs": [
        {
          "output_type": "stream",
          "name": "stdout",
          "text": [
            "37.77777777777778\n"
          ]
        }
      ]
    },
    {
      "cell_type": "markdown",
      "source": [
        " Calculate interest"
      ],
      "metadata": {
        "id": "o6rw0ZbV7b4x"
      }
    },
    {
      "cell_type": "code",
      "source": [
        " p=10000\n",
        " r=10\n",
        " n=1\n",
        " i=p*r*n/100\n",
        " print(i)"
      ],
      "metadata": {
        "colab": {
          "base_uri": "https://localhost:8080/"
        },
        "id": "9sxhmTc17gL5",
        "outputId": "b6d6cb3a-f521-469f-c298-e9d1f34b864d"
      },
      "execution_count": 35,
      "outputs": [
        {
          "output_type": "stream",
          "name": "stdout",
          "text": [
            "1000.0\n"
          ]
        }
      ]
    },
    {
      "cell_type": "markdown",
      "source": [
        " Calculate area & perimeter of a square"
      ],
      "metadata": {
        "id": "TBnx_8RT7pm4"
      }
    },
    {
      "cell_type": "code",
      "source": [
        " l=10\n",
        " a=l**2\n",
        " p=4*l\n",
        " print(a,p)"
      ],
      "metadata": {
        "colab": {
          "base_uri": "https://localhost:8080/"
        },
        "id": "1bm7fjcU7vUu",
        "outputId": "35d8c351-9c37-4f65-c578-bf62edad20ee"
      },
      "execution_count": 36,
      "outputs": [
        {
          "output_type": "stream",
          "name": "stdout",
          "text": [
            "100 40\n"
          ]
        }
      ]
    },
    {
      "cell_type": "markdown",
      "source": [
        "Calculate area & perimeter of a rectangle"
      ],
      "metadata": {
        "id": "6Qt7E7iB704j"
      }
    },
    {
      "cell_type": "code",
      "source": [
        "l=10\n",
        "b=5\n",
        "a=l*b\n",
        "p=2*(l+b)\n",
        "print(a,p)"
      ],
      "metadata": {
        "colab": {
          "base_uri": "https://localhost:8080/"
        },
        "id": "r0Coo3hA744h",
        "outputId": "7e3d2567-4fb0-4def-f127-1b6d1617537a"
      },
      "execution_count": 38,
      "outputs": [
        {
          "output_type": "stream",
          "name": "stdout",
          "text": [
            "50 30\n"
          ]
        }
      ]
    },
    {
      "cell_type": "markdown",
      "source": [
        " Calculate area of a circle"
      ],
      "metadata": {
        "id": "gCE42LyG8Bjm"
      }
    },
    {
      "cell_type": "code",
      "source": [
        "r=10\n",
        "a=22/7*r*r\n",
        "print(a)"
      ],
      "metadata": {
        "colab": {
          "base_uri": "https://localhost:8080/"
        },
        "id": "2Qvdn9P38Fxb",
        "outputId": "21b3a0fb-ced0-4fdc-c911-737d24db2f46"
      },
      "execution_count": 39,
      "outputs": [
        {
          "output_type": "stream",
          "name": "stdout",
          "text": [
            "314.2857142857143\n"
          ]
        }
      ]
    },
    {
      "cell_type": "markdown",
      "source": [
        "Calculate area of a triangle"
      ],
      "metadata": {
        "id": "cbh3n-BD8L9E"
      }
    },
    {
      "cell_type": "code",
      "source": [
        " h=10\n",
        " l=5\n",
        " a=h*l/2\n",
        " print(a)"
      ],
      "metadata": {
        "colab": {
          "base_uri": "https://localhost:8080/"
        },
        "id": "aJPaFdtJ8TT-",
        "outputId": "d336b011-0c8b-4987-a9cd-dca7fc22a5aa"
      },
      "execution_count": 41,
      "outputs": [
        {
          "output_type": "stream",
          "name": "stdout",
          "text": [
            "25.0\n"
          ]
        }
      ]
    },
    {
      "cell_type": "markdown",
      "source": [
        "Calculate net salary where net salary = gross salary + allowance – deduction. Allowances are 10% while deductions are 3% of gross\n",
        " salary."
      ],
      "metadata": {
        "id": "a5sMi1f-8cJK"
      }
    },
    {
      "cell_type": "code",
      "source": [
        "gs=500000\n",
        "a=gs*10/100\n",
        "d=gs*3/100\n",
        "ns=gs+a-d\n",
        "print(ns)"
      ],
      "metadata": {
        "colab": {
          "base_uri": "https://localhost:8080/"
        },
        "id": "V2hWe02f8heE",
        "outputId": "11d7b405-8c2b-4ef0-9b22-44143f61fe4a"
      },
      "execution_count": 42,
      "outputs": [
        {
          "output_type": "stream",
          "name": "stdout",
          "text": [
            "535000.0\n"
          ]
        }
      ]
    },
    {
      "cell_type": "markdown",
      "source": [
        " Calculate net sales where net sales = gross sales – 10% discount of gross sales"
      ],
      "metadata": {
        "id": "KSRNO5dK8te0"
      }
    },
    {
      "cell_type": "code",
      "source": [
        " gs=1000000\n",
        " d=gs*10/100\n",
        " ns=gs-d\n",
        " print(ns)"
      ],
      "metadata": {
        "colab": {
          "base_uri": "https://localhost:8080/"
        },
        "id": "uSQFMExR8yVu",
        "outputId": "84d0b4fb-82c1-4a53-fb5f-f9338760a4cd"
      },
      "execution_count": 44,
      "outputs": [
        {
          "output_type": "stream",
          "name": "stdout",
          "text": [
            "900000.0\n"
          ]
        }
      ]
    },
    {
      "cell_type": "markdown",
      "source": [
        "Calculate average of three subjects along with their total"
      ],
      "metadata": {
        "id": "bxtr83C684jy"
      }
    },
    {
      "cell_type": "code",
      "source": [
        "maths=69\n",
        "chem=72\n",
        "phy=56\n",
        "total=maths+chem+phy\n",
        "avg=total/3\n",
        "print(total,avg)"
      ],
      "metadata": {
        "colab": {
          "base_uri": "https://localhost:8080/"
        },
        "id": "EsSk4ewa9FOr",
        "outputId": "7f660e87-84c6-4d24-b8a5-ed6a565598c3"
      },
      "execution_count": 45,
      "outputs": [
        {
          "output_type": "stream",
          "name": "stdout",
          "text": [
            "197 65.66666666666667\n"
          ]
        }
      ]
    },
    {
      "cell_type": "markdown",
      "source": [
        " Swap two values"
      ],
      "metadata": {
        "id": "XNmV8q4c9Yd-"
      }
    },
    {
      "cell_type": "code",
      "source": [
        " a=99\n",
        " b=100\n",
        " temp=a\n",
        " a=b\n",
        " b=temp\n",
        " print(a,b)"
      ],
      "metadata": {
        "colab": {
          "base_uri": "https://localhost:8080/"
        },
        "id": "MYXtz0R_9eT_",
        "outputId": "bdd7a41a-70de-46c3-a33f-8046efa3b6c9"
      },
      "execution_count": 46,
      "outputs": [
        {
          "output_type": "stream",
          "name": "stdout",
          "text": [
            "100 99\n"
          ]
        }
      ]
    }
  ]
}