{
  "nbformat": 4,
  "nbformat_minor": 0,
  "metadata": {
    "colab": {
      "provenance": [],
      "authorship_tag": "ABX9TyPqhWVL8H23SShXPxRUehnQ"
    },
    "kernelspec": {
      "name": "python3",
      "display_name": "Python 3"
    },
    "language_info": {
      "name": "python"
    }
  },
  "cells": [
    {
      "cell_type": "markdown",
      "source": [
        "Write a program to create a csv file that we can directly open in MS-Excel."
      ],
      "metadata": {
        "id": "eJySNF2AvQaJ"
      }
    },
    {
      "cell_type": "code",
      "execution_count": 2,
      "metadata": {
        "colab": {
          "base_uri": "https://localhost:8080/"
        },
        "id": "1liuvxapuzeu",
        "outputId": "4cc82e37-f5b5-439d-d578-de23ec965035"
      },
      "outputs": [
        {
          "output_type": "stream",
          "name": "stdout",
          "text": [
            "CSV file 'data.csv' created successfully.\n"
          ]
        }
      ],
      "source": [
        "import csv\n",
        "\n",
        "with open('data.csv', 'w', newline='') as file:\n",
        "    writer = csv.writer(file)\n",
        "    writer.writerow(['Name', 'Age', 'City'])\n",
        "    writer.writerow(['Ishaan', 25, 'Delhi'])\n",
        "    writer.writerow(['Sharanya', 28, 'Mumbai'])\n",
        "    writer.writerow(['Yuvan', 22, 'Chennai'])\n",
        "\n",
        "print(\"CSV file 'data.csv' created successfully.\")"
      ]
    },
    {
      "cell_type": "markdown",
      "source": [
        " Read the data stored in MS-Excel file and convert it into a dictionary. The record contains rollno,\n",
        "name of student, marks of three subjects. Also calculate total. Display the dictionary data on the\n",
        "monitor."
      ],
      "metadata": {
        "id": "TmPl0-o3vb72"
      }
    },
    {
      "cell_type": "code",
      "source": [
        "import pandas as pd\n",
        "\n",
        "data = pd.read_excel('students.xlsx')\n",
        "\n",
        "students_dict = {}\n",
        "\n",
        "for index, row in data.iterrows():\n",
        "    rollno = row['RollNo']\n",
        "    name = row['Name']\n",
        "    marks = [row['Subject1'], row['Subject2'], row['Subject3']]"
      ],
      "metadata": {
        "id": "FZ5zItWqv3k3"
      },
      "execution_count": null,
      "outputs": []
    },
    {
      "cell_type": "markdown",
      "source": [
        "Accept contact details from the user and create a vcard that we can directly store in our mobile"
      ],
      "metadata": {
        "id": "oGZst9-Vv4_H"
      }
    },
    {
      "cell_type": "code",
      "source": [
        "name = input(\"Enter full name: \")\n",
        "phone = input(\"Enter phone number: \")\n",
        "email = input(\"Enter email: \")\n",
        "org = input(\"Enter organization: \")\n",
        "\n",
        "vcard = f\"\"\"BEGIN:VCARD\n",
        "VERSION:3.0\n",
        "FN:{name}\n",
        "TEL;TYPE=CELL:{phone}\n",
        "EMAIL:{email}\n",
        "ORG:{org}\n",
        "END:VCARD\n",
        "\"\"\"\n",
        "\n",
        "with open(f\"{name.replace(' ', '_')}.vcf\", \"w\") as file:\n",
        "    file.write(vcard)\n",
        "\n",
        "print(\"vCard created successfully.\")\n"
      ],
      "metadata": {
        "colab": {
          "base_uri": "https://localhost:8080/"
        },
        "id": "rd3kmXdjv_a-",
        "outputId": "5746d9c4-82f8-4b18-e9d7-5936b2ac8cc7"
      },
      "execution_count": 5,
      "outputs": [
        {
          "output_type": "stream",
          "name": "stdout",
          "text": [
            "Enter full name: Tirth M\n",
            "Enter phone number: 9765432110\n",
            "Enter email: mitr@mma.com\n",
            "Enter organization: mma\n",
            "vCard created successfully.\n"
          ]
        }
      ]
    },
    {
      "cell_type": "markdown",
      "source": [
        "Create a specific subdirectory and copy one file from another subdirectory to this newly created\n",
        "subdirectory."
      ],
      "metadata": {
        "id": "Fx8bLqwlwOkp"
      }
    },
    {
      "cell_type": "code",
      "source": [
        "import os\n",
        "import shutil\n",
        "\n",
        "source_dir = 'source_folder'\n",
        "target_dir = 'target_folder'\n",
        "file_name = 'sample.txt'\n",
        "\n",
        "os.makedirs(target_dir, exist_ok=True)\n",
        "\n",
        "source_path = os.path.join(source_dir, file_name)\n",
        "target_path = os.path.join(target_dir, file_name)\n",
        "\n",
        "shutil.copy(source_path, target_path)\n",
        "\n",
        "print(\"File copied successfully.\")"
      ],
      "metadata": {
        "id": "G1Z5E5eCwc3F"
      },
      "execution_count": null,
      "outputs": []
    },
    {
      "cell_type": "markdown",
      "source": [
        "Write a program to copy contents of one file to another. While doing so, replace all lowercase\n",
        "characters into uppercase characters."
      ],
      "metadata": {
        "id": "VTQmuk2IweWk"
      }
    },
    {
      "cell_type": "code",
      "source": [
        "with open('source.txt', 'r') as src:\n",
        "    content = src.read()\n",
        "\n",
        "content_upper = content.upper()\n",
        "\n",
        "with open('destination.txt', 'w') as dest:\n",
        "    dest.write(content_upper)\n",
        "\n",
        "print(\"Content copied with lowercase converted to uppercase.\")"
      ],
      "metadata": {
        "id": "CZBbglliwmRD"
      },
      "execution_count": null,
      "outputs": []
    },
    {
      "cell_type": "markdown",
      "source": [
        "Write a program that merges lines alternatively from two files and writes the results to new file. If\n",
        "one file has less number of lines than the other, the remaining lines from the larger file should be\n",
        "simply copied into the target file."
      ],
      "metadata": {
        "id": "tFbJSzELwoWh"
      }
    },
    {
      "cell_type": "code",
      "source": [
        "with open('file1.txt', 'r') as f1, open('file2.txt', 'r') as f2:\n",
        "    lines1 = f1.readlines()\n",
        "    lines2 = f2.readlines()\n",
        "\n",
        "max_len = max(len(lines1), len(lines2))\n",
        "merged_lines = []\n",
        "\n",
        "for i in range(max_len):\n",
        "    if i < len(lines1):\n",
        "        merged_lines.append(lines1[i])\n",
        "    if i < len(lines2):\n",
        "        merged_lines.append(lines2[i])\n",
        "\n",
        "with open('merged.txt', 'w') as f_out:\n",
        "    f_out.writelines(merged_lines)\n",
        "\n",
        "print(\"Files merged alternatively into 'merged.txt'.\")"
      ],
      "metadata": {
        "id": "WTm47dqnwwmN"
      },
      "execution_count": null,
      "outputs": []
    },
    {
      "cell_type": "markdown",
      "source": [
        "If an Employee object contains following details:\n",
        "empcode, empname, Date of Joining, Salary\n",
        "Write a program to serialize and deserialize this data."
      ],
      "metadata": {
        "id": "fcPVn6MtwxxZ"
      }
    },
    {
      "cell_type": "code",
      "source": [
        "import pickle\n",
        "\n",
        "class Employee:\n",
        "    def __init__(self, empcode, empname, doj, salary):\n",
        "        self.empcode = empcode\n",
        "        self.empname = empname\n",
        "        self.doj = doj\n",
        "        self.salary = salary\n",
        "\n",
        "    def __str__(self):\n",
        "        return f\"Code: {self.empcode}, Name: {self.empname}, DOJ: {self.doj}, Salary: {self.salary}\"\n",
        "\n",
        "emp = Employee(101, 'Sharanya', '2022-07-01', 60000)\n",
        "\n",
        "with open('employee.dat', 'wb') as file:\n",
        "    pickle.dump(emp, file)\n",
        "\n",
        "with open('employee.dat', 'rb') as file:\n",
        "    loaded_emp = pickle.load(file)\n",
        "\n",
        "print(loaded_emp)"
      ],
      "metadata": {
        "colab": {
          "base_uri": "https://localhost:8080/"
        },
        "id": "Qq8vPwV5w3fM",
        "outputId": "0a270a4f-daf8-46b3-c941-0ae0cd70a3d6"
      },
      "execution_count": 9,
      "outputs": [
        {
          "output_type": "stream",
          "name": "stdout",
          "text": [
            "Code: 101, Name: Sharanya, DOJ: 2022-07-01, Salary: 60000\n"
          ]
        }
      ]
    },
    {
      "cell_type": "markdown",
      "source": [
        "Given a text file, write a program to create another text file deleting the words ‘a’, ‘the’, ‘an’ and\n",
        "replacing each one of them with a blank space."
      ],
      "metadata": {
        "id": "WqsUoQ37w8i1"
      }
    },
    {
      "cell_type": "code",
      "source": [
        "with open('input.txt', 'r') as infile:\n",
        "    content = infile.read()\n",
        "\n",
        "for word in [' a ', ' the ', ' an ']:\n",
        "    content = content.replace(word, ' ')\n",
        "\n",
        "with open('output.txt', 'w') as outfile:\n",
        "    outfile.write(content)\n",
        "\n",
        "print(\"Words removed and new file created as 'output.txt'.\")"
      ],
      "metadata": {
        "id": "BlWCveWGxJLf"
      },
      "execution_count": null,
      "outputs": []
    }
  ]
}