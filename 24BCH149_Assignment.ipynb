{
  "nbformat": 4,
  "nbformat_minor": 0,
  "metadata": {
    "colab": {
      "provenance": [],
      "authorship_tag": "ABX9TyN0Z6IEDbujPnVVXykkOQ2t"
    },
    "kernelspec": {
      "name": "python3",
      "display_name": "Python 3"
    },
    "language_info": {
      "name": "python"
    }
  },
  "cells": [
    {
      "cell_type": "markdown",
      "source": [
        "Read a text file, find out your name and print the number of occurrence of your name"
      ],
      "metadata": {
        "id": "LGhrjLoCymrn"
      }
    },
    {
      "cell_type": "code",
      "source": [
        "name_to_find = 'YourName'\n",
        "\n",
        "with open('input.txt', 'r') as file:\n",
        "    content = file.read()\n",
        "\n",
        "name_count = content.lower().count(name_to_find.lower())\n",
        "\n",
        "print(f\"The name '{name_to_find}' appears {name_count} times.\")"
      ],
      "metadata": {
        "id": "EI_X7Fn3y2Tv"
      },
      "execution_count": null,
      "outputs": []
    },
    {
      "cell_type": "markdown",
      "source": [
        "Write a python function to print first n lines of the following pattern:\n"
      ],
      "metadata": {
        "id": "udZhygriy3de"
      }
    },
    {
      "cell_type": "code",
      "source": [
        "def print_pattern(n):\n",
        "    for i in range(n, 0, -1):\n",
        "        print('*' * i)\n",
        "n = 3\n",
        "print_pattern(n)"
      ],
      "metadata": {
        "colab": {
          "base_uri": "https://localhost:8080/"
        },
        "id": "pEhXvtapy7jN",
        "outputId": "cb994aa9-ff10-4d2c-d360-8c1477b806db"
      },
      "execution_count": 2,
      "outputs": [
        {
          "output_type": "stream",
          "name": "stdout",
          "text": [
            "***\n",
            "**\n",
            "*\n"
          ]
        }
      ]
    }
  ]
}