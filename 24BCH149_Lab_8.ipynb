{
  "nbformat": 4,
  "nbformat_minor": 0,
  "metadata": {
    "colab": {
      "provenance": [],
      "authorship_tag": "ABX9TyNKuVBZALVLsiQ2C1lGfedE"
    },
    "kernelspec": {
      "name": "python3",
      "display_name": "Python 3"
    },
    "language_info": {
      "name": "python"
    }
  },
  "cells": [
    {
      "cell_type": "markdown",
      "source": [
        "Write a program that converts words present in a list into uppercase and stores them in a set."
      ],
      "metadata": {
        "id": "Q1POyP2an4_u"
      }
    },
    {
      "cell_type": "code",
      "execution_count": 2,
      "metadata": {
        "colab": {
          "base_uri": "https://localhost:8080/"
        },
        "id": "2PIwxo-8nrgk",
        "outputId": "4fa26e9e-63b9-4f06-e723-14a276724205"
      },
      "outputs": [
        {
          "output_type": "stream",
          "name": "stdout",
          "text": [
            "{'APPLE', 'CHERRY', 'BANANA'}\n"
          ]
        }
      ],
      "source": [
        "words = ['apple', 'banana', 'cherry',]\n",
        "uppercase_set = set(word.upper() for word in words)\n",
        "print(uppercase_set)"
      ]
    },
    {
      "cell_type": "markdown",
      "source": [
        "Write a program to create a set containing 10 random numbers in the range 15 to 45. Count how\n",
        "many of these numbers are less than 30. Delete all numbers that are greater than 35.\n"
      ],
      "metadata": {
        "id": "ROTk3W8RowY4"
      }
    },
    {
      "cell_type": "code",
      "source": [
        "import random\n",
        "\n",
        "numbers = set(random.randint(15, 45) for _ in range(10))\n",
        "count_less_than_30 = sum(1 for num in numbers if num < 30)\n",
        "numbers = {num for num in numbers if num <= 35}\n",
        "\n",
        "print(\"Set:\", numbers)\n",
        "print(\"Count of numbers less than 30:\", count_less_than_30)"
      ],
      "metadata": {
        "colab": {
          "base_uri": "https://localhost:8080/"
        },
        "id": "ZVBauawaozrm",
        "outputId": "961ffd21-52b9-44cc-bc28-56ff594cde0a"
      },
      "execution_count": 3,
      "outputs": [
        {
          "output_type": "stream",
          "name": "stdout",
          "text": [
            "Set: {33, 35, 19, 20, 21, 25}\n",
            "Count of numbers less than 30: 4\n"
          ]
        }
      ]
    },
    {
      "cell_type": "markdown",
      "source": [
        "Create an empty set. Write a program that adds five new names to this set, modifies one existing\n",
        "name and deletes two names from it."
      ],
      "metadata": {
        "id": "QjyscIdIpBYi"
      }
    },
    {
      "cell_type": "code",
      "source": [
        "names = set()\n",
        "\n",
        "names.add('Ishaan')\n",
        "names.add('Tanvi')\n",
        "names.add('Rudra')\n",
        "names.add('Veda')\n",
        "names.add('Yuvan')\n",
        "\n",
        "names.remove('Tanvi')\n",
        "names.remove('Rudra')\n",
        "\n",
        "names.add('Sharanya')\n",
        "\n",
        "print(\"Updated Set:\", names)"
      ],
      "metadata": {
        "colab": {
          "base_uri": "https://localhost:8080/"
        },
        "id": "sv8iV-wvpGod",
        "outputId": "80d567a1-cfec-46b1-bc35-b1f7f9c68820"
      },
      "execution_count": 4,
      "outputs": [
        {
          "output_type": "stream",
          "name": "stdout",
          "text": [
            "Updated Set: {'Ishaan', 'Sharanya', 'Veda', 'Yuvan'}\n"
          ]
        }
      ]
    },
    {
      "cell_type": "markdown",
      "source": [
        "A set contains names which begin either with A or with B. Write a program to separate out the\n",
        "names into two sets, one containing names beginning with A and another with B."
      ],
      "metadata": {
        "id": "ZX_SiLTopZjO"
      }
    },
    {
      "cell_type": "code",
      "source": [
        "names = {'virat', 'rohit', 'ravindra', 'ravi', 'mahi', 'rishabh'}\n",
        "\n",
        "v_names = {name for name in names if name.startswith('v')}\n",
        "r_names = {name for name in names if name.startswith('r')}\n",
        "\n",
        "print(\"Names starting with V:\", v_names)\n",
        "print(\"Names starting with R:\", r_names)"
      ],
      "metadata": {
        "colab": {
          "base_uri": "https://localhost:8080/"
        },
        "id": "BhLveoi_psee",
        "outputId": "4af12432-d938-4a79-e8c1-ac0691f7a2d5"
      },
      "execution_count": 5,
      "outputs": [
        {
          "output_type": "stream",
          "name": "stdout",
          "text": [
            "Names starting with V: {'virat'}\n",
            "Names starting with R: {'ravindra', 'rishabh', 'rohit', 'ravi'}\n"
          ]
        }
      ]
    }
  ]
}